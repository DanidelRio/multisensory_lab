{
 "cells": [
  {
   "cell_type": "markdown",
   "id": "198b4e3d",
   "metadata": {},
   "source": [
    "## 2-way `residalResponse` modified in covariance matrix.\n",
    "All conditions for a single subject.\n",
    "\n",
    "Modifying the residualResponse from the encoding-decoding model. Using $\\Omega_1$ from van Bergen, Nat Neuro doi:10.1038/nn.4150\n",
    "\n",
    "The parts where the code has changed are denoted by the marker: # CHANGE\n",
    "\n",
    "### Created by Daniela del Rio on November, 2024"
   ]
  },
  {
   "cell_type": "code",
   "execution_count": 1,
   "id": "465343ee",
   "metadata": {},
   "outputs": [],
   "source": [
    "import pathlib\n",
    "import numpy as np\n",
    "import matplotlib.pyplot as plt\n",
    "import random as rd\n",
    "import time\n",
    "\n",
    "from scipy.stats import multivariate_normal, pearsonr, ttest_ind, ttest_1samp, norm\n",
    "from scipy.optimize import curve_fit"
   ]
  },
  {
   "cell_type": "code",
   "execution_count": 2,
   "id": "494e73e0",
   "metadata": {},
   "outputs": [],
   "source": [
    "# # Function taken from: V2_piece_by_piece, 9/26/2024\n",
    "# # Function that simulates BOLD response [B] with a gaussian function.\n",
    "# def simulate_data(nStimuli = 9, nRepeats = 20, nNeurons=120, sigma=10, nVoxels=50,\n",
    "#                   noiseStandardDeviation = 0.05):\n",
    "    \n",
    "#     # Simulating tactile stimuli\n",
    "#     tactile_stimuli = [i*30+100 for i in range(nStimuli)]\n",
    "#     stimuli = np.asarray([[tactile_stimuli[i] for k in range(nRepeats)] for i in range(len(tactile_stimuli))]).reshape(1,nStimuli*nRepeats)\n",
    "#     stimuli = np.round(stimuli)\n",
    "#     stimuli = stimuli.astype(np.int64)\n",
    "\n",
    "#     # Simulating neural response\n",
    "#     neurons = np.arange(0, nNeurons)\n",
    "#     frequency_range = np.arange(100, 341) # Assuming there are neurons tuned from 100-340 Hz frequencies\n",
    "#     neuralResponse = np.zeros((len(neurons), len(frequency_range)))\n",
    "\n",
    "#     # Loop over each neuron tuning function\n",
    "#     for iNeuron in range(len(neurons)):\n",
    "\n",
    "#         orientPreference = frequency_range[iNeuron*2] # 100-310 Hz in 2 Hz steps\n",
    "#         # Instead of a von Mises function, a gaussian. Inputs: x=orientations, mu=orientationPreference, sigma\n",
    "#         neuralResponse[iNeuron,:] = (1/ np.sqrt(2*np.pi*sigma**2))*np.exp(-(frequency_range-orientPreference)**2/(2*sigma**2))\n",
    "#         neuralResponse[iNeuron,:] = neuralResponse[iNeuron,:] / np.max(neuralResponse[iNeuron,:]) #np.abs(np.max(neuralResponse[iNeuron,:]) - np.min(neuralResponse[iNeuron,:]))\n",
    "    \n",
    "#     # Simulated weight matrix\n",
    "#     neuronToVoxelWeights = np.random.rand(nNeurons, nVoxels) # Uniformly distributed random numbers\n",
    "\n",
    "#     nTrials = nStimuli * nRepeats\n",
    "\n",
    "#     # Compute the voxelResponse, B [nxv]\n",
    "#     B = []\n",
    "\n",
    "#     for iTrial in range(nTrials): # 20*8 = 160\n",
    "#         # Neural response to this stimulus. Indexes the correct column of the neuralResponse matrix\n",
    "#         thisNeuralResponse = neuralResponse[:,stimuli[0][iTrial]-100] # 1-D array, 90 elements\n",
    "\n",
    "#         # multiply this by the neuronToVoxelWeights to get the voxel response on this trial.\n",
    "#         # Note that you need to get the matrix dimensions right, so transpose is needed on thisNeuralResponse\n",
    "#         B.append(np.matmul(thisNeuralResponse.T, neuronToVoxelWeights))\n",
    "#     # NOTE: In one part of the code, thisNeuralResponse is transposed.\n",
    "#     # Question: What is the right way to think about this?\n",
    "#     # It doesn't matter. This is only creating the simulated BOLD response. It is not calculating anything.\n",
    "\n",
    "#     B = np.asarray(B)\n",
    "    \n",
    "#     # Scaling the reponse\n",
    "#     B = B / np.mean(B)\n",
    "\n",
    "#     aux1, aux2 = B.shape\n",
    "#     # add gaussian noise, trial-level noise.\n",
    "#     B = B + noiseStandardDeviation * np.random.randn(aux1, aux2)\n",
    "\n",
    "#     return stimuli, frequency_range, B, neuralResponse\n"
   ]
  },
  {
   "cell_type": "code",
   "execution_count": 3,
   "id": "ef1655b4",
   "metadata": {},
   "outputs": [],
   "source": [
    "# Functions from V2_does_within_condition_model_performance_differ_across_conditions_noise_floor\n",
    "\n",
    "# make channel basis functions\n",
    "# channelResponse C, [nxk]\n",
    "# channelBasis, C = create_channel_basis(nChannels, exponent, nStimuli)\n",
    "\n",
    "def create_channel_basis(nChannels = 9, exponent = 7, nStimuli = 9):\n",
    "    # Note in this case, the number of channels is the same as the number of stimuli.\n",
    "\n",
    "    frequency_range = np.arange(100, 341)\n",
    "    tactile_stimuli = [i*30+100 for i in range(nStimuli)]\n",
    "    \n",
    "    channelBasis = np.zeros((241, nChannels)) # ideal channel responses to each of 210 frequencies\n",
    "    \n",
    "    # Creates the channel basis\n",
    "    for iChannel in range(nChannels):\n",
    "        # The output of this channel basis might be something different than expected.\n",
    "        thisChannelBasis =  np.cos(2*np.pi*(frequency_range-tactile_stimuli[iChannel])/360)\n",
    "        # rectify\n",
    "        thisChannelBasis[thisChannelBasis<0] = 0\n",
    "        thisChannelBasis = thisChannelBasis**exponent\n",
    "        channelBasis[:,iChannel] = thisChannelBasis\n",
    "        \n",
    "    # Computes the channelResponse for each stimuli\n",
    "    C = np.zeros((nStimuli, nChannels))\n",
    "    \n",
    "    for iStim in range(nStimuli):\n",
    "        C[iStim, :] = channelBasis[tactile_stimuli[iStim]-100,:]\n",
    "        \n",
    "    return channelBasis, C\n",
    "\n",
    "\n",
    "# Implementing the inverted encoding model\n",
    "# Inputs: channelResponse, voxelResponse\n",
    "def model_fit(C, B_train):\n",
    "        \n",
    "    W_estimated = np.matmul(np.linalg.pinv(C), B_train) # Computes the (Moore-Penrose) pseudo-inverse of C1\n",
    "    B_predicted = np.matmul(C, W_estimated) # model prediction on test data\n",
    "    \n",
    "    return W_estimated, B_predicted\n",
    "\n",
    "\n",
    "# voxelResponse B, [nxv]\n",
    "# channelResponse C, [nxk]\n",
    "# Note: channelBasis != channelResponse. The channelResponse is C.\n",
    "\n",
    "def likelihoods_covar_independent_different(B_predicted, B_test, channelBasis, W_estimated): # CHANGE\n",
    "    \n",
    "    nVoxels = np.shape(B_predicted)[1]\n",
    "    nfrequencies = 241\n",
    "    nTestTrials = 9\n",
    "    \n",
    "    # compute residual\n",
    "    residualResponse = B_test - B_predicted\n",
    "#     print(np.shape(residualResponse))\n",
    "    residualVariance = np.var(residualResponse, axis = 0, dtype=np.float64) # CHANGE Independent noise from each voxel\n",
    "    print(np.shape(residualVariance))\n",
    "    #     residualVariance = np.var(residualResponse) # CHANGE Independent noise of all the voxels combined\n",
    "    # When an axis is specified, this return a vector, not a scalar value\n",
    "    print(\"Covar independent, different values\\n  Residual variance\",np.mean(residualVariance)) # Note: When using normalized BOLD values, this turns out very small\n",
    "    print(\"max residual variance\",np.max(residualVariance))\n",
    "    print(\"min residual variance\",np.min(residualVariance)) \n",
    "\n",
    "    # compute r2 for the decoded model. Jeff: Model performance that is not cross-validated.\n",
    "    # Note this value will no longer be a scalar when residualVariance is no longer a scalar.\n",
    "    r2 = 1 - residualVariance / np.var(B_test)\n",
    "    \n",
    "    # Diagonal elements of the matrix are the variance computed across all voxels.\n",
    "    # Off diagonals (in this case all 0) contain covariance between voxels\n",
    "    modelCovar = np.diag(residualVariance) # [v x v] # CHANGE residualVariance is a vector of v entries\n",
    "#     modelCovar = np.identity(nVoxels) * residualVariance # [v x v] # CHANGE residualVariance is a scalar\n",
    "#     print(\"modelCovar\", np.shape(modelCovar))\n",
    "    \n",
    "    # cycle over each trial\n",
    "    nTestTrials = np.size(B_test, 0) # n-t\n",
    "    likelihood = np.zeros([nTestTrials, nfrequencies]) # n-t, 241\n",
    "    probability = np.zeros([nTestTrials, nfrequencies]) #normalized_likelihood\n",
    "\n",
    "    for iTrial in range(nTestTrials):\n",
    "\n",
    "        for iStimulus in range(nfrequencies):\n",
    "            # compute the mean voxel response predicted by the channel encoding model\n",
    "            # For the same stimulus, B_predicted is always the same.\n",
    "            B_every_freq = np.matmul(channelBasis[iStimulus], W_estimated) # 1 X v-voxels\n",
    "            # The probability of a stimulis is given by the mean response and the model covariance.\n",
    "\n",
    "            # HERE!! Jeff: the predictedResponse can be expanded in the domain.\n",
    "            mvnpdf = multivariate_normal.pdf(B_test[iTrial], mean=B_every_freq, cov = modelCovar)\n",
    "            likelihood[iTrial,iStimulus] = mvnpdf\n",
    "            \n",
    "    # Obtaining probability vector, aka normalizing likelihood across trials\n",
    "    for trial_i in range(nTestTrials):\n",
    "\n",
    "        upper_lim = max(likelihood[trial_i,:])\n",
    "        lower_lim = min(likelihood[trial_i,:])\n",
    "\n",
    "        # Normalization of the likelihood. It is undefined when: upper_lim = lower_lim\n",
    "        probability[trial_i,:] = (likelihood[trial_i,:]-lower_lim) / (upper_lim-lower_lim)\n",
    "\n",
    "    \n",
    "    return r2, likelihood, probability\n",
    "\n",
    "\n",
    "def likelihoods_covar_independent_same(B_predicted, B_test, channelBasis, W_estimated): # CHANGE\n",
    "    \n",
    "    nVoxels = np.shape(B_predicted)[1]\n",
    "    nfrequencies = 241\n",
    "    nTestTrials = 9\n",
    "    \n",
    "    # compute residual\n",
    "    residualResponse = B_test - B_predicted\n",
    "    vec_resVar = np.var(residualResponse, axis = 0, dtype=np.float64) # CHANGE Independent noise from each voxel\n",
    "    residualVariance = np.mean(vec_resVar)\n",
    "    \n",
    "#     diagonal_elements = np.var(residualResponse, axis = 0, dtype=np.float64) # CHANGE Independent noise from each voxel\n",
    "#     residualVariance = np.mean(diagonal_elements) # CHANGE\n",
    "#     residualVariance = np.var(residualResponse) # CHANGE Independent noise of all the voxels combined, flattened\n",
    "    # When an axis is specified, this return a vector, not a scalar value\n",
    "    print(\"Covar independent, same values\\n Residual variance\",residualVariance) # Note: When using normalized BOLD values, this turns out very small\n",
    "\n",
    "#     vec_resVar = np.var(residualResponse, axis = 0, dtype=np.float64) # CHANGE Independent noise from each voxel\n",
    "#     residualVariance = np.mean(vec_resVar)\n",
    "#     print(\"Residual variance\",residualVariance)\n",
    "    #     residualVariance = np.var(residualResponse) # CHANGE Independent noise of all the voxels combined\n",
    "\n",
    "    # compute r2 for the decoded model. Jeff: Model performance that is not cross-validated.\n",
    "    # Note this value will no longer be a scalar when residualVariance is no longer a scalar.\n",
    "    r2 = 1 - residualVariance / np.var(B_test)\n",
    "    \n",
    "    # Diagonal elements of the matrix are the variance computed across all voxels.\n",
    "    # Off diagonals (in this case all 0) contain covariance between voxels\n",
    "#     modelCovar = np.diag(residualVariance) # [v x v] # CHANGE residualVariance is a vector of v entries\n",
    "    modelCovar = np.identity(nVoxels) * residualVariance # [v x v] # CHANGE residualVariance is a scalar\n",
    "#     print(\"modelCovar\", np.shape(modelCovar))\n",
    "    \n",
    "    # cycle over each trial\n",
    "    nTestTrials = np.size(B_test, 0) # n-t\n",
    "    likelihood = np.zeros([nTestTrials, nfrequencies]) # n-t, 241\n",
    "    probability = np.zeros([nTestTrials, nfrequencies]) #normalized_likelihood\n",
    "\n",
    "    for iTrial in range(nTestTrials):\n",
    "\n",
    "        for iStimulus in range(nfrequencies):\n",
    "            # compute the mean voxel response predicted by the channel encoding model\n",
    "            # For the same stimulus, B_predicted is always the same.\n",
    "            B_every_freq = np.matmul(channelBasis[iStimulus], W_estimated) # 1 X v-voxels\n",
    "            # The probability of a stimulis is given by the mean response and the model covariance.\n",
    "\n",
    "            # HERE!! Jeff: the predictedResponse can be expanded in the domain.\n",
    "            mvnpdf = multivariate_normal.pdf(B_test[iTrial], mean=B_every_freq, cov = modelCovar)\n",
    "            likelihood[iTrial,iStimulus] = mvnpdf\n",
    "            \n",
    "    # Obtaining probability vector, aka normalizing likelihood across trials\n",
    "    for trial_i in range(nTestTrials):\n",
    "\n",
    "        upper_lim = max(likelihood[trial_i,:])\n",
    "        lower_lim = min(likelihood[trial_i,:])\n",
    "\n",
    "        # Normalization of the likelihood. It is undefined when: upper_lim = lower_lim\n",
    "        probability[trial_i,:] = (likelihood[trial_i,:]-lower_lim) / (upper_lim-lower_lim)\n",
    "\n",
    "    \n",
    "    return r2, likelihood, probability\n",
    "\n",
    "\n",
    "# def likelihoods_covar_independent_same(B_predicted, B_test, channelBasis, W_estimated): # CHANGE\n",
    "    \n",
    "#     nVoxels = np.shape(B_predicted)[1]\n",
    "#     nfrequencies = 241\n",
    "#     nTestTrials = 9\n",
    "    \n",
    "#     # compute residual\n",
    "#     residualResponse = B_test - B_predicted\n",
    "# #     print(np.shape(residualResponse))\n",
    "# #     residualVariance = np.var(residualResponse, axis = 0) # CHANGE Independent noise from each voxel\n",
    "#     residualVariance = np.var(residualResponse, dtype=np.float64) # CHANGE Independent noise of all the voxels combined, flattened\n",
    "#     # When an axis is specified, this return a vector, not a scalar value\n",
    "#     print(\"Covar independent, same values, flattened\\n Residual variance \",residualVariance) # Note: When using normalized BOLD values, this turns out very small\n",
    "\n",
    "#     # compute r2 for the decoded model. Jeff: Model performance that is not cross-validated.\n",
    "#     # Note this value will no longer be a scalar when residualVariance is no longer a scalar.\n",
    "#     r2 = 1 - residualVariance / np.var(B_test)\n",
    "    \n",
    "#     # Diagonal elements of the matrix are the variance computed across all voxels.\n",
    "#     # Off diagonals (in this case all 0) contain covariance between voxels\n",
    "# #     modelCovar = np.diag(residualVariance) # [v x v] # CHANGE residualVariance is a vector of v entries\n",
    "#     modelCovar = np.identity(nVoxels) * residualVariance # [v x v] # CHANGE residualVariance is a scalar\n",
    "# #     print(\"modelCovar\", np.shape(modelCovar))\n",
    "    \n",
    "#     # cycle over each trial\n",
    "#     nTestTrials = np.size(B_test, 0) # n-t\n",
    "#     likelihood = np.zeros([nTestTrials, nfrequencies]) # n-t, 241\n",
    "#     probability = np.zeros([nTestTrials, nfrequencies]) #normalized_likelihood\n",
    "\n",
    "#     for iTrial in range(nTestTrials):\n",
    "\n",
    "#         for iStimulus in range(nfrequencies):\n",
    "#             # compute the mean voxel response predicted by the channel encoding model\n",
    "#             # For the same stimulus, B_predicted is always the same.\n",
    "#             B_every_freq = np.matmul(channelBasis[iStimulus], W_estimated) # 1 X v-voxels\n",
    "#             # The probability of a stimulis is given by the mean response and the model covariance.\n",
    "\n",
    "# #             print(\"MEan\",B_every_freq)\n",
    "# #             print(\"B_Test:\",B_test[iTrial])\n",
    "#             # HERE!! Jeff: the predictedResponse can be expanded in the domain.\n",
    "#             mvnpdf = multivariate_normal.pdf(B_test[iTrial], mean=B_every_freq, cov = modelCovar)\n",
    "#             likelihood[iTrial,iStimulus] = mvnpdf\n",
    "            \n",
    "#     # Obtaining probability vector, aka normalizing likelihood across trials\n",
    "#     for trial_i in range(nTestTrials):\n",
    "\n",
    "#         upper_lim = max(likelihood[trial_i,:])\n",
    "#         lower_lim = min(likelihood[trial_i,:])\n",
    "        \n",
    "#         if upper_lim == lower_lim: # Denominator will be zero, undefined when: upper_lim = lower_lim\n",
    "#             probability[trial_i,:] = likelihood[trial_i,:] # All elements are zero\n",
    "\n",
    "#         else: # Normalization of the likelihood.\n",
    "#             probability[trial_i,:] = (likelihood[trial_i,:]-lower_lim) / (upper_lim-lower_lim)\n",
    "    \n",
    "#     return r2, likelihood, probability\n",
    "\n",
    "\n",
    "\n",
    "# Used to fit a gaussian to each trial.\n",
    "def gaussian(x, mu, sigma, amplitude):\n",
    "    coefficient = amplitude/ np.sqrt(2*np.pi*sigma**2)\n",
    "    return coefficient*np.exp(-(x-mu)**2/(2*sigma**2))\n",
    "\n",
    "# Function that given a vector, replicates the first 50 and last 50 entries of the array.\n",
    "# The vector should be at least length 100\n",
    "# Used as a supplementary to `curve_fit`\n",
    "def mirror_edges(vector, cushion=10):\n",
    "    \n",
    "    length = len(vector)\n",
    "    \n",
    "    if length < cushion*2:\n",
    "        print(\"Vector less than 100 entries\")\n",
    "        \n",
    "    else:\n",
    "        beginning = np.flip(vector[0:cushion])\n",
    "        ending = np.flip(vector[length-cushion:length])\n",
    "        \n",
    "    return np.concatenate((beginning, vector, ending))\n",
    "\n",
    "\n",
    "# Inputs nfrequencies\n",
    "def gaussian_fit(probability, cushion = 10):\n",
    "\n",
    "    nTestTrials, nfrequencies = probability.shape\n",
    "\n",
    "    xdata = [i-cushion for i in range(nfrequencies+cushion*2)] # 211 frequencies, 100-310\n",
    "    xdata_real = [i+100-cushion for i in range(nfrequencies+cushion*2)] # 211 frequencies, 100-310\n",
    "\n",
    "    means_vec = np.zeros(nTestTrials)\n",
    "    sigmas_vec = np.zeros(nTestTrials)\n",
    "    amplitudes_vec = np.zeros(nTestTrials)\n",
    "\n",
    "    for trial_i in range(nTestTrials): # 90 iterations. THESE INDICES SHOULD SPAN THE ACTUAL SPACE\n",
    "        \n",
    "        ydata = probability[trial_i, :]\n",
    "        \n",
    "        if not ydata.any(): # All elements of ydata are zeros\n",
    "            print(\"Trial \",trial_i,\" contains all zeros.\")\n",
    "            \n",
    "        ydata_mirror = mirror_edges(probability[trial_i,:]) # CONCATENATED VECTOR IN THE EDGES.\n",
    "        # Jeff Note: mirroring the probability in the edges destroys the noise effects\n",
    "        \n",
    "        p0 = [probability[trial_i,:].argmax(), 0.5, 1] # initial guess\n",
    "\n",
    "        try:\n",
    "            # Using non-lionear least squares to fit the data\n",
    "            # https://docs.scipy.org/doc/scipy/reference/generated/scipy.optimize.curve_fit.html\n",
    "            fit_gauss = curve_fit(gaussian, xdata, ydata_mirror, p0)\n",
    "            # gaussian takes: x, mu, sigma, amplitude\n",
    "        except RuntimeError:\n",
    "            print(\"Error fitting gaussian in: \",trial_i)\n",
    "            fit_gauss = [['nan', 'nan', 'nan']]\n",
    "\n",
    "        means_vec[trial_i], sigmas_vec[trial_i], amplitudes_vec[trial_i] = fit_gauss[0]\n",
    "\n",
    "    return means_vec, sigmas_vec, amplitudes_vec\n",
    "\n",
    "\n",
    "# Function that obtains the relative distance between the values xx and yy, i.e. a divergence function.\n",
    "# The relative error is pondered by the interval of maximum and minimum values vary across the 2 folds.\n",
    "# xx and yy are 1-dimensional vectors with 9 entries (frequencies)\n",
    "def relative_error(xx, yy):\n",
    "    all_entries = np.concatenate((xx, yy))\n",
    "    \n",
    "    maximum = np.max(all_entries)\n",
    "    minimum = np.min(all_entries)\n",
    "    \n",
    "    relative_error = [np.abs(xx[i]-yy[i])/(maximum-minimum) for i in range(len(xx))]    \n",
    "    \n",
    "    return np.mean(relative_error)\n",
    "\n",
    "\n",
    "# Given 2 folds of the data and some exclusion criteria,\n",
    "# finds the voxels that meet this criteria.\n",
    "def mask_creation(m1, m2, exclusion_criteria_pearson = 0.7, exclusion_criteria_relative = 0.8):\n",
    "\n",
    "    length = m1.shape[0]\n",
    "\n",
    "    absolute_err_vec = [np.mean(np.abs(m1[i] - m2[i])) for i in range(length)]\n",
    "    absolute_err_1_vec = [1-np.mean(np.abs(m1[i] - m2[i])) for i in range(m1.shape[0])]\n",
    "    relative_err_vec = [relative_error(m1[i], m2[i]) for i in range(length)]\n",
    "    relative_err_1_vec = [1-(relative_err_vec[i]) for i in range(length)]\n",
    "    pearson_cross_correlation = [pearsonr(m1[i], m2[i])[0] for i in range(length)]\n",
    "\n",
    "    indices_pearson = []\n",
    "    indices_relative = []\n",
    "    indices_both = []\n",
    "\n",
    "    mask_both = [False for i in range(length)]\n",
    "    mask_pearson_only = [False for i in range(length)]\n",
    "    mask_relative_only = [False for i in range(length)]\n",
    "\n",
    "    for i in range(length):\n",
    "\n",
    "        if pearson_cross_correlation[i] > exclusion_criteria_pearson: # voxel is included in mask_both or mask_pearson_only\n",
    "            indices_pearson.append(i)\n",
    "\n",
    "            if relative_err_1_vec[i] > exclusion_criteria_relative: # voxel meets both criteria.\n",
    "                indices_relative.append(i)\n",
    "                indices_both.append(i)\n",
    "                mask_both[i] = True\n",
    "\n",
    "            else: # voxel only meets Pearson criteria.\n",
    "                mask_pearson_only[i] = True\n",
    "\n",
    "        if relative_err_1_vec[i] > exclusion_criteria_relative: # voxel is not considered in a traditional analysis!\n",
    "            indices_relative.append(i)\n",
    "            mask_relative_only[i] = True\n",
    "\n",
    "    print(\"Number of included voxels that meet both criteria:\",len(indices_both))\n",
    "\n",
    "    return mask_both\n",
    "\n",
    "\n",
    "# Function that obtains the relative distance between the values xx and yy, i.e. a divergence function.\n",
    "# The relative error is pondered by the interval of maximum and minimum values vary across the 2 folds.\n",
    "# xx and yy are 1-dimensional vectors with 9 entries (frequencies)\n",
    "def relative_error(xx, yy):\n",
    "    all_entries = np.concatenate((xx, yy))\n",
    "    \n",
    "    maximum = np.max(all_entries)\n",
    "    minimum = np.min(all_entries)\n",
    "    \n",
    "    relative_error = [np.abs(xx[i]-yy[i])/(maximum-minimum) for i in range(len(xx))]    \n",
    "    \n",
    "    return np.mean(relative_error)\n",
    "\n",
    "\n",
    "# Gaussian function for fitting the null distribution\n",
    "def gaussian_null_dist(x, amplitude, mean, stddev):\n",
    "    return amplitude * np.exp(-((x - mean) ** 2) / (2 * stddev ** 2))"
   ]
  },
  {
   "cell_type": "code",
   "execution_count": 4,
   "id": "36998ffb",
   "metadata": {},
   "outputs": [],
   "source": [
    "def analysis(B_test, B_predicted, W_estimated, nVoxels, nStimuli, initial_frequency, likelihood_function): # CHANGE from simulation -> analysis\n",
    "    # Running the analysis\n",
    "    start_time = time.time()\n",
    "    # How much time is this taking to run? https://stackoverflow.com/questions/1557571/how-do-i-get-time-of-a-python-programs-execution\n",
    "\n",
    "    C_estimated = np.matmul(B_test, np.linalg.pinv(W_estimated)) # estimated channel responses from B2\n",
    "    r2, likelihood, probability = likelihood_function(B_predicted, B_test, channelBasis, W_estimated)\n",
    "    # Previously, likelihood_function was called: likelihoods_from_already_trained_model\n",
    "    \n",
    "    # HERE. Subject 3 presents infs or NaNs in the probability array\n",
    "    means_vec, sigmas_vec, amplitudes_vec = gaussian_fit(probability, cushion = 10)\n",
    "\n",
    "    # Mean absolute error in Hz\n",
    "    tactile_stimuli = np.asarray([i*30+100 for i in range(nStimuli)])\n",
    "    error_Hz_vec = np.abs(tactile_stimuli-(means_vec+initial_frequency))\n",
    "\n",
    "    # Normalized relative error, each frequency is weighted differently depending on the maximum error possible of the decoder on that frequency\n",
    "#     max_error_vec = [  240.,  210.,  180.,  150., 120., 150., 180., 210., 240.]\n",
    "    \n",
    "#     error_vec_Hz = np.abs(tactile_stimuli-means_vec)\n",
    "#     error_vec_common_space_across_frequencies = np.asarray([error_vec_Hz[i]/max_error_vec[i] for i in range(nStimuli)])\n",
    "#     # print(error_vec_common_space_across_frequencies)\n",
    "#     error_scalar_normalized_space = np.mean(error_vec_common_space_across_frequencies)\n",
    "\n",
    "    simulation_time = time.time() - start_time\n",
    "\n",
    "    print(\"--- %s seconds ---\" % simulation_time) # Converts any value into a string.\n",
    "    \n",
    "    return C_estimated, r2, probability, means_vec, sigmas_vec, amplitudes_vec, error_Hz_vec"
   ]
  },
  {
   "cell_type": "markdown",
   "id": "eabe5b38",
   "metadata": {},
   "source": [
    "Taken from **V2_piece_by_piece_real_data_separate_train_and_test.ipynb**"
   ]
  },
  {
   "cell_type": "code",
   "execution_count": 5,
   "id": "145bc75d",
   "metadata": {},
   "outputs": [],
   "source": [
    "def initial_plots(B, C_estimated, r2, probability, means_vec, sigmas_vec, amplitudes_vec):\n",
    "    # Obtain the similarity plot\n",
    "    nTrials = B.shape[0]\n",
    "    matrix = np.zeros([nTrials, nTrials])\n",
    "\n",
    "    for i in range(nTrials):\n",
    "        for j in range(nTrials):\n",
    "            matrix[i, j] = pearsonr(B[i,:], B[j,:])[0]    \n",
    "            \n",
    "    plt.figure(figsize=(8, 6), dpi=80)\n",
    "    plt.imshow(matrix)\n",
    "    plt.show()\n",
    "\n",
    "    # I expect to see 9 peaks in this graph.\n",
    "    plt.plot(C_estimated)\n",
    "    plt.xlabel('n-stimuli')\n",
    "    plt.ylabel('Channel response')\n",
    "    plt.title('Estimated Channel Response') # [B2 * W_estimated^T] = n-t * k\n",
    "    plt.show()\n",
    "    \n",
    "    plt.figure(figsize=(16, 8))\n",
    "    plt.imshow(probability)\n",
    "    plt.xlabel('Stimulus frequency -100 [Hz]')\n",
    "    plt.ylabel('Ordered trial #')\n",
    "    plt.title('Probability')\n",
    "    plt.show()\n",
    "    \n",
    "    # # Decoding Model Accuracy and Estimated Channel Responses\n",
    "    #Neural noise is between 0.4 and 0.5 in the model we were playing with to replicate\n",
    "    #this level of r^2 decoding accuracy (see notes Thu, Sep 12).\n",
    "#     print(\"Model performance that is not cross-validated\",r2)\n",
    "    \n",
    "    plt.plot(means_vec)\n",
    "    plt.title(\"Means\")\n",
    "    plt.xlabel('Trial #')\n",
    "    plt.ylabel('Gaussian mean (most likely orientation [deg])')\n",
    "    plt.show()\n",
    "\n",
    "    plt.plot(sigmas_vec)\n",
    "    plt.title(\"Sigmas\")\n",
    "    plt.xlabel('Trial #')\n",
    "    plt.ylabel('Gaussian stdev (most likely sigma)')\n",
    "    plt.show()\n",
    "\n",
    "    plt.plot(amplitudes_vec)\n",
    "    plt.title(\"Amplitude\")\n",
    "    plt.xlabel('Trial #')\n",
    "    plt.ylabel('Gaussian amplitude (most likely amplitude)')\n",
    "    plt.show()\n",
    "\n",
    "    # In the 340 Hz trials, the sigmas have higher values.\n",
    "    # This might be related to the estimatedChannelResponses?\n",
    "    #The lower sigmas for 100 and 310 Hz might be some kind of border effect?\n",
    "    return None\n",
    "\n",
    "\n",
    "def other_plots(means_vec, sigmas_vec, amplitudes_vec, initial_frequency, probability, tactile_stimuli, average_error_per_condition):\n",
    "\n",
    "#     plt.scatter(tactile_stimuli, sigmas_vec, c=\"k\")\n",
    "#     plt.hlines(np.mean(sigmas_vec), tactile_stimuli[0], tactile_stimuli[len(tactile_stimuli)-1],\n",
    "#                linestyle='dashed', colors = 'r')\n",
    "#     plt.ylabel(\"Sigma (from gaussian fit)\")\n",
    "#     plt.xlabel('Trial #')\n",
    "#     plt.title('Mean sigma (from gaussian fit) '+str(np.round(np.mean(sigmas_vec), 2)))\n",
    "#     plt.show()\n",
    "\n",
    "    trials = [i for i in range(9)]\n",
    "    all_freq_stimuli = [i+initial_frequency for i in range(241)]\n",
    "    xdata = [i for i in range(241)]\n",
    "\n",
    "    for trial_i in range(len(trials)):\n",
    "\n",
    "        mean, sigma, amplitude = means_vec[trial_i], sigmas_vec[trial_i], amplitudes_vec[trial_i]\n",
    "        label_Hz = str(round(mean) + initial_frequency)\n",
    "\n",
    "        plt.plot(all_freq_stimuli, probability[trial_i,:], marker=\".\", c=\"k\")\n",
    "        plt.plot(all_freq_stimuli, gaussian(xdata, mean, sigma, amplitude),  label=label_Hz)\n",
    "\n",
    "        plt.title(\"Gaussians for all the trials\")\n",
    "        plt.xlabel('Stimulus frequency [Hz]')\n",
    "        plt.ylabel('Likelihood')\n",
    "        plt.legend(bbox_to_anchor=(0.5, 0.5, 1, 0.5), title=\"Frequencies [Hz]\")\n",
    "\n",
    "    plt.show()\n",
    "\n",
    "    # Calculating the error of the fitted gaussian's mean compared to the real frequency.\n",
    "    plt.scatter(tactile_stimuli, average_error_per_condition, c=\"k\")#, label=label_Hz)\n",
    "    plt.hlines(np.mean(average_error_per_condition), tactile_stimuli[0], tactile_stimuli[len(tactile_stimuli)-1],\n",
    "               linestyle='dashed', colors = 'r')\n",
    "    plt.xlabel(r'Decoded Frequency [Hz]')\n",
    "    plt.ylabel(r'Average error per condition')    \n",
    "    plt.title(\"Mean Error \"+str(np.round(np.mean(average_error_per_condition), 2)))\n",
    "    plt.show()\n",
    "\n",
    "    return None"
   ]
  },
  {
   "cell_type": "markdown",
   "id": "cc7e0e4e",
   "metadata": {},
   "source": [
    "# The following is code for the real data."
   ]
  },
  {
   "cell_type": "code",
   "execution_count": 6,
   "id": "7269a307",
   "metadata": {},
   "outputs": [],
   "source": [
    "class Subject:\n",
    "    def __init__(self, **kwargs):\n",
    "        # kwargs is so powerful! https://www.golinuxcloud.com/python-kwargs-args-examples/\n",
    "        for key, value in kwargs.items():\n",
    "            setattr(self, key, value)\n",
    "    \n",
    "    # 2 methods to extract the coordinates and the bold coefficient data\n",
    "    def coordinates(self, attr_name): # attr_name is a string\n",
    "        # Get the attribute by its name\n",
    "        # https://www.w3schools.com/python/ref_func_getattr.asp\n",
    "        attr_value = getattr(self, attr_name, None)\n",
    "        \n",
    "        # Check if attr_name is a key in the dictionary\n",
    "        # https://datagy.io/python-check-if-key-value-dictionary/\n",
    "        if attr_name in self.__dict__.keys():\n",
    "            # Return the first three entries\n",
    "            return np.asarray([row[:3] for row in attr_value]) # [self.attribute[j][:3] for j in range(self.attribute.shape[0])]\n",
    "        else:\n",
    "            raise AttributeError(f\"The attribute '{attr_name}' does not exist or is not a list.\")\n",
    "\n",
    "    def bold_coefficients(self, attr_name):\n",
    "        attr_value = getattr(self, attr_name, None)\n",
    "        \n",
    "        if attr_name in self.__dict__.keys():\n",
    "            return np.asarray([row[3:] for row in attr_value]) # [data[j][4:] for j in range(data.shape[0])]\n",
    "        else:\n",
    "            raise AttributeError(f\"The attribute '{attr_name}' does not exist or is not a list.\")\n",
    "            \n",
    "# Create a method that obtains all the attributes that end in f1\n",
    "# From there, you can call the method coordiantes and bold_coefficients\n",
    "    def one_fold_names(self, fold_name): # fold_name can be 'f1' of 'f2'\n",
    "#         attr_value = getattr(self, attr_name, None)\n",
    "        attributes_of_this_fold = []\n",
    "    \n",
    "        for attribute in self.__dict__.keys():\n",
    "            if fold_name in attribute:\n",
    "                attributes_of_this_fold.append(attribute)\n",
    "        \n",
    "        return attributes_of_this_fold\n",
    "    \n",
    "    # Note I think I do not use the next 2 functions: bold_left_hand and bold_right_hand\n",
    "#     def bold_left_hand(self, attr_name):\n",
    "#         slice_ranges_left = [(0,9), (18,27), (36,45), (54,63)]\n",
    "#         bold_coeffs = self.bold_coefficients(attr_name) # 72 entries\n",
    "#         slic_left = [bold_coeffs[start:end] for start, end in slice_ranges_left]\n",
    "        \n",
    "#         return np.asarray(slic_left)\n",
    "# #         return np.ndarray.flatten(np.asarray(slic_left))\n",
    "    \n",
    "#     def bold_right_hand(self, attr_name):\n",
    "#         slice_ranges_right = [(27,36), (9,18), (63,72), (45,54)]\n",
    "#         bold_coeffs = self.bold_coefficients(attr_name) # 72 entries\n",
    "#         slic_right = [bold_coeffs[start:end] for start, end in slice_ranges_right]\n",
    "        \n",
    "#         return np.asarray(slic_right)\n",
    "    \n",
    "    \n",
    "    def bold_separated_by_condition_left(self, attr_name):\n",
    "        slice_ranges_left = [(0,9), (18,27), (36,45), (54,63)] # left\n",
    "        arr_list_A = []\n",
    "        arr_list_B = []\n",
    "        arr_list_C = []\n",
    "        arr_list_D = []\n",
    "        \n",
    "        bold_coeffs = self.bold_coefficients(attr_name)\n",
    "        length = bold_coeffs.shape[0]\n",
    "\n",
    "        for i in range(length):\n",
    "            row = bold_coeffs[i]\n",
    "            arr_list_A.append(np.asarray([row[slice_ranges_left[0][0]:slice_ranges_left[0][1]]]))\n",
    "            arr_list_B.append(np.asarray([row[slice_ranges_left[1][0]:slice_ranges_left[1][1]]]))\n",
    "            arr_list_C.append(np.asarray([row[slice_ranges_left[2][0]:slice_ranges_left[2][1]]]))\n",
    "            arr_list_D.append(np.asarray([row[slice_ranges_left[3][0]:slice_ranges_left[3][1]]]))\n",
    "\n",
    "        arr_list_A = np.asarray(arr_list_A).reshape(length, 9)\n",
    "        arr_list_B = np.asarray(arr_list_B).reshape(length, 9)\n",
    "        arr_list_C = np.asarray(arr_list_C).reshape(length, 9)\n",
    "        arr_list_D = np.asarray(arr_list_D).reshape(length, 9)\n",
    "        \n",
    "        return arr_list_A, arr_list_B, arr_list_C, arr_list_D\n",
    "    \n",
    "    \n",
    "    def bold_separated_by_condition_right(self, attr_name):\n",
    "        slice_ranges = [(27,36), (9,18), (63,72), (45,54)] # right\n",
    "        arr_list_A = []\n",
    "        arr_list_B = []\n",
    "        arr_list_C = []\n",
    "        arr_list_D = []\n",
    "        \n",
    "        bold_coeffs = self.bold_coefficients(attr_name)\n",
    "        length = bold_coeffs.shape[0]\n",
    "\n",
    "        for i in range(length):\n",
    "            row = bold_coeffs[i]\n",
    "            arr_list_A.append(np.asarray([row[slice_ranges[0][0]:slice_ranges[0][1]]]))\n",
    "            arr_list_B.append(np.asarray([row[slice_ranges[1][0]:slice_ranges[1][1]]]))\n",
    "            arr_list_C.append(np.asarray([row[slice_ranges[2][0]:slice_ranges[2][1]]]))\n",
    "            arr_list_D.append(np.asarray([row[slice_ranges[3][0]:slice_ranges[3][1]]]))\n",
    "\n",
    "        arr_list_A = np.asarray(arr_list_A).reshape(length, 9)\n",
    "        arr_list_B = np.asarray(arr_list_B).reshape(length, 9)\n",
    "        arr_list_C = np.asarray(arr_list_C).reshape(length, 9)\n",
    "        arr_list_D = np.asarray(arr_list_D).reshape(length, 9)\n",
    "        \n",
    "        return arr_list_A, arr_list_B, arr_list_C, arr_list_D\n",
    "    \n",
    "    \n",
    "    def all_bold_separated_by_condition_left(self, attr_names):\n",
    "        bold_A = []\n",
    "        bold_B = []\n",
    "        bold_C = []\n",
    "        bold_D = []\n",
    "        \n",
    "        for attr_name in(attr_names):\n",
    "            A, B, C, D = self.bold_separated_by_condition_left(attr_name)\n",
    "            bold_A.append(A)\n",
    "            bold_B.append(B)\n",
    "            bold_C.append(C)\n",
    "            bold_D.append(D)\n",
    "        \n",
    "        bold_A = np.concatenate(bold_A)\n",
    "        bold_B = np.concatenate(bold_B)\n",
    "        bold_C = np.concatenate(bold_C)\n",
    "        bold_D = np.concatenate(bold_D)\n",
    "        \n",
    "        return bold_A, bold_B, bold_C, bold_D\n",
    "    \n",
    "    \n",
    "    def all_bold_separated_by_condition_right(self, attr_names):\n",
    "        bold_A = []\n",
    "        bold_B = []\n",
    "        bold_C = []\n",
    "        bold_D = []\n",
    "        \n",
    "        for attr_name in(attr_names):\n",
    "            A, B, C, D = self.bold_separated_by_condition_right(attr_name)\n",
    "            bold_A.append(A)\n",
    "            bold_B.append(B)\n",
    "            bold_C.append(C)\n",
    "            bold_D.append(D)\n",
    "        \n",
    "        bold_A = np.concatenate(bold_A)\n",
    "        bold_B = np.concatenate(bold_B)\n",
    "        bold_C = np.concatenate(bold_C)\n",
    "        bold_D = np.concatenate(bold_D)\n",
    "        \n",
    "        return bold_A, bold_B, bold_C, bold_D"
   ]
  },
  {
   "cell_type": "markdown",
   "id": "61b86d18",
   "metadata": {},
   "source": [
    "# Data!\n",
    "In the file `main_analysis.m`, you can find what the filenames mean.\n",
    "\n",
    "```\n",
    "% load data\n",
    "subj = {'FreqAP02';'FreqAP03';'FreqAP04';'FreqAP05';'FreqAP06';'FreqAP07';'FreqAP08'};\n",
    "roi = {'s1','op','area5','area7','insula','v1'};\n",
    "% roi = {'v1'};\n",
    "hem = {'lh','rh'};\n",
    "fold = {'f1','f2'};\n",
    "left_hand = [1:9,19:27,37:45,55:63]; % stay the same\n",
    "right_hand = [28:36,10:18,64:72,46:54]; % change as condition\n",
    "```\n",
    "\n",
    "Note: Jeff thinks the stimulus was always delivered to both hands."
   ]
  },
  {
   "cell_type": "code",
   "execution_count": 7,
   "id": "5183e985",
   "metadata": {},
   "outputs": [],
   "source": [
    "# Taken from: https://realpython.com/get-all-files-in-directory-python/\n",
    "desktop = pathlib.Path(\"Data_betas/freq_ap/\")\n",
    "\n",
    "subject_number = \"02\"\n",
    "# Obtains all paths for subject XX\n",
    "# Obtains a generator which is wrapped aroung a list() constructor\n",
    "subject_label = \"FreqAP\"+subject_number+\"*\"\n",
    "subject_paths = list(desktop.glob(subject_label)) \n",
    "\n",
    "\n",
    "all_data = []\n",
    "all_labels = []\n",
    "\n",
    "for i in range(len(subject_paths)):\n",
    "    subject_label = \"Data_betas/freq_ap/FreqAP\"+subject_number+\"_\"\n",
    "    region_txt = str(subject_paths[i]).replace(subject_label, \"\")\n",
    "    \n",
    "    data = np.loadtxt(subject_paths[i])#, delimiter=',')\n",
    "    all_data.append(data)\n",
    "    all_labels.append(region_txt.replace(\".txt\", \"\"))\n",
    "\n",
    "all_data = np.array(all_data, dtype=object)\n",
    "all_labels = np.array(all_labels, dtype=object)"
   ]
  },
  {
   "cell_type": "markdown",
   "id": "aa293938",
   "metadata": {},
   "source": [
    "# How to extract specific conditions?"
   ]
  },
  {
   "cell_type": "code",
   "execution_count": 8,
   "id": "f9251246",
   "metadata": {},
   "outputs": [
    {
     "data": {
      "text/plain": [
       "(1586, 75)"
      ]
     },
     "execution_count": 8,
     "metadata": {},
     "output_type": "execute_result"
    }
   ],
   "source": [
    "# Create an instance of Presubject with dynamic attribute assignment\n",
    "# https://www.pythonpool.com/python-curly-brackets/\n",
    "# https://www.digitalocean.com/community/tutorials/how-to-use-args-and-kwargs-in-python-3\n",
    "subject = Subject(**dict(zip(all_labels, all_data)))\n",
    "\n",
    "subject.v1_rh_8cond_f1.shape"
   ]
  },
  {
   "cell_type": "code",
   "execution_count": 9,
   "id": "8c786fea",
   "metadata": {},
   "outputs": [
    {
     "name": "stdout",
     "output_type": "stream",
     "text": [
      "['v1_rh_8cond_f2', 'area7_lh_8cond_f2', 'insula_lh_8cond_f2', 's1_rh_8cond_f2', 'op_lh_8cond_f2', 'area5_rh_8cond_f2', 'v1_lh_8cond_f2', 'area7_rh_8cond_f2', 'insula_rh_8cond_f2', 's1_lh_8cond_f2', 'area5_lh_8cond_f2', 'op_rh_8cond_f2']\n"
     ]
    }
   ],
   "source": [
    "attributes_f1 = subject.one_fold_names(\"f1\")\n",
    "attributes_f2 = subject.one_fold_names(\"f2\")\n",
    "print(attributes_f2)"
   ]
  },
  {
   "cell_type": "markdown",
   "id": "aba20808",
   "metadata": {},
   "source": [
    "### # Note something, this is only for the left hand! We are doing nothing about the right hand"
   ]
  },
  {
   "cell_type": "code",
   "execution_count": 10,
   "id": "444bb6c7",
   "metadata": {},
   "outputs": [],
   "source": [
    "A1, B1, C1, D1 = subject.all_bold_separated_by_condition_left(attributes_f1)\n",
    "A2, B2, C2, D2 = subject.all_bold_separated_by_condition_left(attributes_f2)"
   ]
  },
  {
   "cell_type": "markdown",
   "id": "eb83c867",
   "metadata": {},
   "source": [
    " I think for the bold_left_right_hand I only want to reshape the array into v_voxels * 36 (4*9) "
   ]
  },
  {
   "cell_type": "code",
   "execution_count": 11,
   "id": "56073042",
   "metadata": {},
   "outputs": [
    {
     "name": "stdout",
     "output_type": "stream",
     "text": [
      "Number of included voxels that meet threshold criteria: 341\n"
     ]
    }
   ],
   "source": [
    "# This is the data I had for obtaining the 1-relative error for each voxel in each condition.\n",
    "# # I do not want to sort the voxels, I want to find the mask of the voxels that meet a certain condition.\n",
    "\n",
    "length = A1.shape[0]\n",
    "\n",
    "# 1-relative error\n",
    "relative_err_1_A = np.asarray([1-(relative_error(A1[i], A2[i])) for i in range(length)])\n",
    "relative_err_1_B = np.asarray([1-(relative_error(B1[i], B2[i])) for i in range(length)])\n",
    "relative_err_1_C = np.asarray([1-(relative_error(C1[i], C2[i])) for i in range(length)])\n",
    "relative_err_1_D = np.asarray([1-(relative_error(D1[i], D2[i])) for i in range(length)])\n",
    "\n",
    "indices_all = []\n",
    "mask_all = [False for i in range(length)]\n",
    "\n",
    "threshold = 0.7\n",
    "    \n",
    "for i in range(length): # Iterating over the voxels\n",
    "    if relative_err_1_A[i] > threshold and relative_err_1_B[i] > threshold and relative_err_1_C[i] > threshold and relative_err_1_D[i] > threshold:\n",
    "        indices_all.append(i)\n",
    "        mask_all[i] = True\n",
    "\n",
    "print(\"Number of included voxels that meet threshold criteria:\",len(indices_all))"
   ]
  },
  {
   "cell_type": "code",
   "execution_count": 12,
   "id": "3b9d19c9",
   "metadata": {},
   "outputs": [],
   "source": [
    "# Initialize arrays where I'll save the errors for ever condition and Tr-Te.\n",
    "n_conds_folds = 8\n",
    "vec_mean_errors_covar_same = np.zeros(n_conds_folds)\n",
    "vec_mean_errors_covar_different = np.zeros(n_conds_folds)"
   ]
  },
  {
   "cell_type": "markdown",
   "id": "d140f16a",
   "metadata": {},
   "source": [
    "## Is the model decoding?\n",
    "### Within a condition.\n",
    "#### Condition A.\n",
    "Training on 1 fold of Condition A and testing on the other. Additionally, shuffling the 9 labels of each voxel and running the decoder on this shuffled dataset `n_shuffles` times."
   ]
  },
  {
   "cell_type": "markdown",
   "id": "25f59320",
   "metadata": {},
   "source": [
    "# HERE! The following cell is what I change for every condition."
   ]
  },
  {
   "cell_type": "code",
   "execution_count": 13,
   "id": "8b25f60c",
   "metadata": {},
   "outputs": [],
   "source": [
    "# For every condition, update this cell.\n",
    "condition = \"A\"\n",
    "train_matrix = A1[mask_all] # condition_matrix\n",
    "test_matrix = A2[mask_all] # matrix\n",
    "\n",
    "n_shuffles = 100"
   ]
  },
  {
   "cell_type": "markdown",
   "id": "07e335cd",
   "metadata": {},
   "source": [
    "# `likelihoods_covar_independent_same`"
   ]
  },
  {
   "cell_type": "code",
   "execution_count": 14,
   "id": "d6632180",
   "metadata": {},
   "outputs": [
    {
     "name": "stdout",
     "output_type": "stream",
     "text": [
      "Data ready.\n",
      "Model fit ready.\n",
      "Covar independent, same values\n",
      " Residual variance 0.08780346722473464\n",
      "--- 21.946256160736084 seconds ---\n"
     ]
    }
   ],
   "source": [
    "# Modified cell for use in real data from cell above called: Creating simulated data\n",
    "# Initializing variables\n",
    "nStimuli = 9\n",
    "# nRepeats = 2 # These are the number of overall BOLD coefficients in the big matrix\n",
    "# nNeurons = 120\n",
    "# sigma = 10\n",
    "# nVoxels = 500 # train_matrix.shape[0] # number of voxels\n",
    "# noiseStandardDeviation = 0.35 # 0.4\n",
    "\n",
    "nChannels = 9 # Note how in this particular case, nStimuli = nChannels = 8\n",
    "exponent = 7\n",
    "nfrequencies = 241\n",
    "initial_frequency = 100\n",
    "\n",
    "# stimuli, frequency_range, B, neuralResponse = simulate_data(nStimuli, nRepeats, nNeurons, sigma,\n",
    "#                                                             nVoxels, noiseStandardDeviation)\n",
    "\n",
    "# Dude. The detail was that // was performing a floor division operator.\n",
    "# X1 = np.array([ [B[i][k] for i in range(B.shape[0]) if i % 2 == 0] for k in range(B.shape[1])]).T\n",
    "# X2 = np.array([ [B[i][k] for i in range(B.shape[0]) if i % 2 == 1] for k in range(B.shape[1])]).T\n",
    "\n",
    "B_train = train_matrix.T # B_train = train_matrix.T # trainVoxelResponse (B1) [txv]\n",
    "B_test = test_matrix.T # B_test = test_matrix.T # testVoxelResponse (B2) [txv]\n",
    "nVoxels = B_train.shape[1]\n",
    "\n",
    "# Simulating tactile stimuli\n",
    "tactile_stimuli = [i*30+initial_frequency for i in range(nStimuli)]\n",
    "stimuli = np.asarray([tactile_stimuli[i//2] for i in range(len(tactile_stimuli)*2)])\n",
    "frequency_range = np.arange(initial_frequency, initial_frequency+nfrequencies) # Neurons tuned from 100-340 Hz frequencies\n",
    "\n",
    "# Training\n",
    "channelBasis, C = create_channel_basis(nChannels, exponent, nStimuli)\n",
    "print(\"Data ready.\")\n",
    "W_estimated, B_predicted = model_fit(C, B_train)\n",
    "print(\"Model fit ready.\")\n",
    "\n",
    "C_estimated, r2, probability, means_vec, sigmas_vec, amplitudes_vec, error_Hz_vec = analysis(B_test, B_predicted, W_estimated, nVoxels, nStimuli, initial_frequency, likelihoods_covar_independent_same)\n",
    "# This last function is what I modified, where the information for the covariance matrix is.\n",
    "B = np.asarray([elem for pair in zip(B_train, B_test) for elem in pair]) # Code suggested by ChatGPT on Nov 27"
   ]
  },
  {
   "cell_type": "code",
   "execution_count": 15,
   "id": "1cdaf654",
   "metadata": {
    "scrolled": true
   },
   "outputs": [
    {
     "data": {
      "image/png": "[encoded data removed]",
      "text/plain": [
       "<Figure size 432x288 with 1 Axes>"
      ]
     },
     "metadata": {
      "needs_background": "light"
     },
     "output_type": "display_data"
    }
   ],
   "source": [
    "# Voxel response\n",
    "# initial_plots(B, C_estimated, r2, probability, means_vec, sigmas_vec, amplitudes_vec)\n",
    "# other_plots(means_vec, sigmas_vec, amplitudes_vec, initial_frequency, probability, tactile_stimuli, error_Hz_vec)\n",
    "\n",
    "# Calculating the error of the fitted gaussian's mean compared to the real frequency.\n",
    "plt.scatter(tactile_stimuli, error_Hz_vec, c=\"k\")#, label=label_Hz)\n",
    "plt.hlines(np.mean(error_Hz_vec), tactile_stimuli[0], tactile_stimuli[len(tactile_stimuli)-1],\n",
    "           linestyle='dashed', colors = 'r')\n",
    "plt.ylim([-10,240])\n",
    "plt.xlabel(r'Decoded Frequency [Hz]')\n",
    "plt.ylabel(r'Average error per condition')    \n",
    "plt.title(\"Tr1-Te2, Covar independent same\\n Mean Error \"+str(np.round(np.mean(error_Hz_vec), 2)))\n",
    "# plt.show()\n",
    "plt.savefig('Graphs/covariance/S'+subject_number+'_A_Tr1-Te2_covar_ind_same.jpg')\n",
    "\n",
    "\n",
    "vec_mean_errors_covar_same[0] = np.mean(error_Hz_vec)"
   ]
  },
  {
   "cell_type": "markdown",
   "id": "82aa49c9",
   "metadata": {},
   "source": [
    "## Repeat the same procedure (train, decode, shuffle) for for the other fold. Store the data.\n",
    "\n",
    "### Training the model on the other fold of that condition.\n",
    "\n",
    "Now,\n",
    "\n",
    "condition_matrix -> test_matrix\n",
    "\n",
    "matrix -> train_matrix"
   ]
  },
  {
   "cell_type": "code",
   "execution_count": 16,
   "id": "17faea27",
   "metadata": {},
   "outputs": [
    {
     "name": "stdout",
     "output_type": "stream",
     "text": [
      "nVoxels 341\n",
      "Data ready.\n",
      "Model fit ready.\n",
      "Covar independent, same values\n",
      " Residual variance 0.08780346722473466\n",
      "--- 13.326063871383667 seconds ---\n"
     ]
    }
   ],
   "source": [
    "# Modified cell for use in real data from cell above called: Creating simulated data\n",
    "# Initializing variables\n",
    "nStimuli = 9\n",
    "# nRepeats = 2 # These are the number of overall BOLD coefficients in the big matrix\n",
    "# nNeurons = 120\n",
    "# sigma = 10\n",
    "# nVoxels = 500 # train_matrix.shape[0] # number of voxels\n",
    "# noiseStandardDeviation = 0.35 # 0.4\n",
    "\n",
    "nChannels = 9 # Note how in this particular case, nStimuli = nChannels = 8\n",
    "exponent = 7\n",
    "nfrequencies = 241\n",
    "initial_frequency = 100\n",
    "\n",
    "# stimuli, frequency_range, B, neuralResponse = simulate_data(nStimuli, nRepeats, nNeurons, sigma,\n",
    "#                                                             nVoxels, noiseStandardDeviation)\n",
    "\n",
    "# Dude. The detail was that // was performing a floor division operator.\n",
    "# X1 = np.array([ [B[i][k] for i in range(B.shape[0]) if i % 2 == 0] for k in range(B.shape[1])]).T\n",
    "# X2 = np.array([ [B[i][k] for i in range(B.shape[0]) if i % 2 == 1] for k in range(B.shape[1])]).T\n",
    "\n",
    "B_train = test_matrix.T # B_train = train_matrix.T # trainVoxelResponse (B1) [txv]\n",
    "B_test = train_matrix.T # B_test = test_matrix.T # testVoxelResponse (B2) [txv]\n",
    "nVoxels = B_train.shape[1]\n",
    "print(\"nVoxels\", nVoxels)\n",
    "\n",
    "# Simulating tactile stimuli\n",
    "tactile_stimuli = [i*30+initial_frequency for i in range(nStimuli)]\n",
    "stimuli = np.asarray([tactile_stimuli[i//2] for i in range(len(tactile_stimuli)*2)])\n",
    "frequency_range = np.arange(initial_frequency, initial_frequency+nfrequencies) # Neurons tuned from 100-340 Hz frequencies\n",
    "\n",
    "# Training\n",
    "channelBasis, C = create_channel_basis(nChannels, exponent, nStimuli)\n",
    "print(\"Data ready.\")\n",
    "W_estimated, B_predicted = model_fit(C, B_train)\n",
    "print(\"Model fit ready.\")\n",
    "\n",
    "C_estimated, r2, probability, means_vec, sigmas_vec, amplitudes_vec, error_Hz_vec = analysis(B_test, B_predicted, W_estimated, nVoxels, nStimuli, initial_frequency, likelihoods_covar_independent_same)\n",
    "# This analysis function is what I modified, where the information for the covariance matrix is.\n",
    "B = np.asarray([elem for pair in zip(B_train, B_test) for elem in pair]) # Code suggested by ChatGPT on Nov 27"
   ]
  },
  {
   "cell_type": "code",
   "execution_count": 17,
   "id": "9ce3d258",
   "metadata": {
    "scrolled": true
   },
   "outputs": [
    {
     "data": {
      "image/png": "[encoded data removed]",
      "text/plain": [
       "<Figure size 432x288 with 1 Axes>"
      ]
     },
     "metadata": {
      "needs_background": "light"
     },
     "output_type": "display_data"
    }
   ],
   "source": [
    "# Voxel response\n",
    "# initial_plots(B, C_estimated, r2, probability, means_vec, sigmas_vec, amplitudes_vec)\n",
    "# other_plots(means_vec, sigmas_vec, amplitudes_vec, initial_frequency, probability, tactile_stimuli, error_Hz_vec)\n",
    "\n",
    "# Calculating the error of the fitted gaussian's mean compared to the real frequency.\n",
    "plt.scatter(tactile_stimuli, error_Hz_vec, c=\"k\")#, label=label_Hz)\n",
    "plt.hlines(np.mean(error_Hz_vec), tactile_stimuli[0], tactile_stimuli[len(tactile_stimuli)-1],\n",
    "           linestyle='dashed', colors = 'r')\n",
    "plt.ylim([-10,240])\n",
    "plt.xlabel(r'Decoded Frequency [Hz]')\n",
    "plt.ylabel(r'Average error per condition')    \n",
    "plt.title(\"Tr2-Te1, Covar independent same\\n Mean Error \"+str(np.round(np.mean(error_Hz_vec), 2)))\n",
    "# plt.show()\n",
    "plt.savefig('Graphs/covariance/S'+subject_number+'_A_Tr2-Te1_covar_ind_same.jpg')\n",
    "\n",
    "vec_mean_errors_covar_same[1] = np.mean(error_Hz_vec)"
   ]
  },
  {
   "cell_type": "code",
   "execution_count": null,
   "id": "77267422",
   "metadata": {},
   "outputs": [],
   "source": []
  },
  {
   "cell_type": "markdown",
   "id": "c5eaba32",
   "metadata": {},
   "source": [
    "# `likelihoods_covar_independent_different`"
   ]
  },
  {
   "cell_type": "code",
   "execution_count": 18,
   "id": "ac804cb4",
   "metadata": {
    "scrolled": false
   },
   "outputs": [
    {
     "name": "stdout",
     "output_type": "stream",
     "text": [
      "Data ready.\n",
      "Model fit ready.\n",
      "(341,)\n",
      "Covar independent, different values\n",
      "  Residual variance 0.08780346722473464\n",
      "max residual variance 1.5345472265184439\n",
      "min residual variance 0.004822537489061735\n",
      "--- 15.865470170974731 seconds ---\n"
     ]
    }
   ],
   "source": [
    "# Modified cell for use in real data from cell above called: Creating simulated data\n",
    "# Initializing variables\n",
    "nStimuli = 9\n",
    "# nRepeats = 2 # These are the number of overall BOLD coefficients in the big matrix\n",
    "# nNeurons = 120\n",
    "# sigma = 10\n",
    "# nVoxels = 500 # train_matrix.shape[0] # number of voxels\n",
    "# noiseStandardDeviation = 0.35 # 0.4\n",
    "\n",
    "nChannels = 9 # Note how in this particular case, nStimuli = nChannels = 8\n",
    "exponent = 7\n",
    "nfrequencies = 241\n",
    "initial_frequency = 100\n",
    "\n",
    "# stimuli, frequency_range, B, neuralResponse = simulate_data(nStimuli, nRepeats, nNeurons, sigma,\n",
    "#                                                             nVoxels, noiseStandardDeviation)\n",
    "\n",
    "# Dude. The detail was that // was performing a floor division operator.\n",
    "# X1 = np.array([ [B[i][k] for i in range(B.shape[0]) if i % 2 == 0] for k in range(B.shape[1])]).T\n",
    "# X2 = np.array([ [B[i][k] for i in range(B.shape[0]) if i % 2 == 1] for k in range(B.shape[1])]).T\n",
    "\n",
    "B_train = train_matrix.T # B_train = train_matrix.T # trainVoxelResponse (B1) [txv]\n",
    "B_test = test_matrix.T # B_test = test_matrix.T # testVoxelResponse (B2) [txv]\n",
    "nVoxels = B_train.shape[1]\n",
    "\n",
    "# Simulating tactile stimuli\n",
    "tactile_stimuli = [i*30+initial_frequency for i in range(nStimuli)]\n",
    "stimuli = np.asarray([tactile_stimuli[i//2] for i in range(len(tactile_stimuli)*2)])\n",
    "frequency_range = np.arange(initial_frequency, initial_frequency+nfrequencies) # Neurons tuned from 100-340 Hz frequencies\n",
    "\n",
    "# Training\n",
    "channelBasis, C = create_channel_basis(nChannels, exponent, nStimuli)\n",
    "print(\"Data ready.\")\n",
    "W_estimated, B_predicted = model_fit(C, B_train)\n",
    "print(\"Model fit ready.\")\n",
    "\n",
    "C_estimated, r2, probability, means_vec, sigmas_vec, amplitudes_vec, error_Hz_vec = analysis(B_test, B_predicted, W_estimated, nVoxels, nStimuli, initial_frequency, likelihoods_covar_independent_different)\n",
    "# This last function is what I modified, where the information for the covariance matrix is.\n",
    "B = np.asarray([elem for pair in zip(B_train, B_test) for elem in pair]) # Code suggested by ChatGPT on Nov 27"
   ]
  },
  {
   "cell_type": "code",
   "execution_count": 19,
   "id": "0105562e",
   "metadata": {
    "scrolled": true
   },
   "outputs": [
    {
     "data": {
      "image/png": "[encoded data removed]",
      "text/plain": [
       "<Figure size 432x288 with 1 Axes>"
      ]
     },
     "metadata": {
      "needs_background": "light"
     },
     "output_type": "display_data"
    }
   ],
   "source": [
    "# Voxel response\n",
    "# initial_plots(B, C_estimated, r2, probability, means_vec, sigmas_vec, amplitudes_vec)\n",
    "# other_plots(means_vec, sigmas_vec, amplitudes_vec, initial_frequency, probability, tactile_stimuli, error_Hz_vec)\n",
    "\n",
    "# Calculating the error of the fitted gaussian's mean compared to the real frequency.\n",
    "plt.scatter(tactile_stimuli, error_Hz_vec, c=\"k\")#, label=label_Hz)\n",
    "plt.hlines(np.mean(error_Hz_vec), tactile_stimuli[0], tactile_stimuli[len(tactile_stimuli)-1],\n",
    "           linestyle='dashed', colors = 'r')\n",
    "plt.ylim([-10,240])\n",
    "plt.xlabel(r'Decoded Frequency [Hz]')\n",
    "plt.ylabel(r'Average error per condition')    \n",
    "plt.title(\"Tr1-Te2, Covar independent different\\n Mean Error \"+str(np.round(np.mean(error_Hz_vec), 2)))\n",
    "# plt.show()\n",
    "plt.savefig('Graphs/covariance/S'+subject_number+'_A_Tr1-Te2_covar_ind_diff.jpg')\n",
    "\n",
    "vec_mean_errors_covar_different[0] = np.mean(error_Hz_vec)"
   ]
  },
  {
   "cell_type": "code",
   "execution_count": 20,
   "id": "71a13067",
   "metadata": {},
   "outputs": [
    {
     "name": "stdout",
     "output_type": "stream",
     "text": [
      "nVoxels 341\n",
      "Data ready.\n",
      "Model fit ready.\n",
      "(341,)\n",
      "Covar independent, different values\n",
      "  Residual variance 0.08780346722473466\n",
      "max residual variance 1.5345472265184439\n",
      "min residual variance 0.004822537489061719\n",
      "--- 23.009419918060303 seconds ---\n"
     ]
    }
   ],
   "source": [
    "# Modified cell for use in real data from cell above called: Creating simulated data\n",
    "# Initializing variables\n",
    "nStimuli = 9\n",
    "# nRepeats = 2 # These are the number of overall BOLD coefficients in the big matrix\n",
    "# nNeurons = 120\n",
    "# sigma = 10\n",
    "# nVoxels = 500 # train_matrix.shape[0] # number of voxels\n",
    "# noiseStandardDeviation = 0.35 # 0.4\n",
    "\n",
    "nChannels = 9 # Note how in this particular case, nStimuli = nChannels = 8\n",
    "exponent = 7\n",
    "nfrequencies = 241\n",
    "initial_frequency = 100\n",
    "\n",
    "# stimuli, frequency_range, B, neuralResponse = simulate_data(nStimuli, nRepeats, nNeurons, sigma,\n",
    "#                                                             nVoxels, noiseStandardDeviation)\n",
    "\n",
    "# Dude. The detail was that // was performing a floor division operator.\n",
    "# X1 = np.array([ [B[i][k] for i in range(B.shape[0]) if i % 2 == 0] for k in range(B.shape[1])]).T\n",
    "# X2 = np.array([ [B[i][k] for i in range(B.shape[0]) if i % 2 == 1] for k in range(B.shape[1])]).T\n",
    "\n",
    "B_train = test_matrix.T # B_train = train_matrix.T # trainVoxelResponse (B1) [txv]\n",
    "B_test = train_matrix.T # B_test = test_matrix.T # testVoxelResponse (B2) [txv]\n",
    "nVoxels = B_train.shape[1]\n",
    "print(\"nVoxels\", nVoxels)\n",
    "\n",
    "# Simulating tactile stimuli\n",
    "tactile_stimuli = [i*30+initial_frequency for i in range(nStimuli)]\n",
    "stimuli = np.asarray([tactile_stimuli[i//2] for i in range(len(tactile_stimuli)*2)])\n",
    "frequency_range = np.arange(initial_frequency, initial_frequency+nfrequencies) # Neurons tuned from 100-340 Hz frequencies\n",
    "\n",
    "# Training\n",
    "channelBasis, C = create_channel_basis(nChannels, exponent, nStimuli)\n",
    "print(\"Data ready.\")\n",
    "W_estimated, B_predicted = model_fit(C, B_train)\n",
    "print(\"Model fit ready.\")\n",
    "\n",
    "C_estimated, r2, probability, means_vec, sigmas_vec, amplitudes_vec, error_Hz_vec = analysis(B_test, B_predicted, W_estimated, nVoxels, nStimuli, initial_frequency, likelihoods_covar_independent_different)\n",
    "# This analysis function is what I modified, where the information for the covariance matrix is.\n",
    "B = np.asarray([elem for pair in zip(B_train, B_test) for elem in pair]) # Code suggested by ChatGPT on Nov 27"
   ]
  },
  {
   "cell_type": "code",
   "execution_count": 21,
   "id": "fbb31726",
   "metadata": {
    "scrolled": true
   },
   "outputs": [
    {
     "data": {
      "image/png": "[encoded data removed]",
      "text/plain": [
       "<Figure size 432x288 with 1 Axes>"
      ]
     },
     "metadata": {
      "needs_background": "light"
     },
     "output_type": "display_data"
    }
   ],
   "source": [
    "# Voxel response\n",
    "# initial_plots(B, C_estimated, r2, probability, means_vec, sigmas_vec, amplitudes_vec)\n",
    "# other_plots(means_vec, sigmas_vec, amplitudes_vec, initial_frequency, probability, tactile_stimuli, error_Hz_vec)\n",
    "\n",
    "# Calculating the error of the fitted gaussian's mean compared to the real frequency.\n",
    "plt.scatter(tactile_stimuli, error_Hz_vec, c=\"k\")#, label=label_Hz)\n",
    "plt.hlines(np.mean(error_Hz_vec), tactile_stimuli[0], tactile_stimuli[len(tactile_stimuli)-1],\n",
    "           linestyle='dashed', colors = 'r')\n",
    "plt.ylim([-10,240])\n",
    "plt.xlabel(r'Decoded Frequency [Hz]')\n",
    "plt.ylabel(r'Average error per condition')    \n",
    "plt.title(\"Tr2-Te1, Covar independent different\\n Mean Error \"+str(np.round(np.mean(error_Hz_vec), 2)))\n",
    "# plt.show()\n",
    "plt.savefig('Graphs/covariance/S'+subject_number+'_A_Tr2-Te1_covar_ind_diff.jpg')\n",
    "\n",
    "vec_mean_errors_covar_different[1] = np.mean(error_Hz_vec)"
   ]
  },
  {
   "cell_type": "code",
   "execution_count": null,
   "id": "5354c0d1",
   "metadata": {},
   "outputs": [],
   "source": []
  },
  {
   "cell_type": "markdown",
   "id": "681f45b0",
   "metadata": {},
   "source": [
    "# Include here the other conditions!\n",
    "### Condition B"
   ]
  },
  {
   "cell_type": "code",
   "execution_count": 22,
   "id": "6adcb38a",
   "metadata": {},
   "outputs": [],
   "source": [
    "condition = \"B\"\n",
    "train_matrix = B1[mask_all] # condition_matrix\n",
    "test_matrix = B2[mask_all] # matrix"
   ]
  },
  {
   "cell_type": "markdown",
   "id": "7cf86bdb",
   "metadata": {},
   "source": [
    "# `likelihoods_covar_independent_same`"
   ]
  },
  {
   "cell_type": "code",
   "execution_count": 23,
   "id": "70688c53",
   "metadata": {},
   "outputs": [
    {
     "name": "stdout",
     "output_type": "stream",
     "text": [
      "Data ready.\n",
      "Model fit ready.\n",
      "Covar independent, same values\n",
      " Residual variance 0.09362394617147314\n",
      "--- 16.309253931045532 seconds ---\n"
     ]
    }
   ],
   "source": [
    "# Modified cell for use in real data from cell above called: Creating simulated data\n",
    "# Initializing variables\n",
    "nStimuli = 9\n",
    "# nRepeats = 2 # These are the number of overall BOLD coefficients in the big matrix\n",
    "# nNeurons = 120\n",
    "# sigma = 10\n",
    "# nVoxels = 500 # train_matrix.shape[0] # number of voxels\n",
    "# noiseStandardDeviation = 0.35 # 0.4\n",
    "\n",
    "nChannels = 9 # Note how in this particular case, nStimuli = nChannels = 8\n",
    "exponent = 7\n",
    "nfrequencies = 241\n",
    "initial_frequency = 100\n",
    "\n",
    "# stimuli, frequency_range, B, neuralResponse = simulate_data(nStimuli, nRepeats, nNeurons, sigma,\n",
    "#                                                             nVoxels, noiseStandardDeviation)\n",
    "\n",
    "# Dude. The detail was that // was performing a floor division operator.\n",
    "# X1 = np.array([ [B[i][k] for i in range(B.shape[0]) if i % 2 == 0] for k in range(B.shape[1])]).T\n",
    "# X2 = np.array([ [B[i][k] for i in range(B.shape[0]) if i % 2 == 1] for k in range(B.shape[1])]).T\n",
    "\n",
    "B_train = train_matrix.T # B_train = train_matrix.T # trainVoxelResponse (B1) [txv]\n",
    "B_test = test_matrix.T # B_test = test_matrix.T # testVoxelResponse (B2) [txv]\n",
    "nVoxels = B_train.shape[1]\n",
    "\n",
    "# Simulating tactile stimuli\n",
    "tactile_stimuli = [i*30+initial_frequency for i in range(nStimuli)]\n",
    "stimuli = np.asarray([tactile_stimuli[i//2] for i in range(len(tactile_stimuli)*2)])\n",
    "frequency_range = np.arange(initial_frequency, initial_frequency+nfrequencies) # Neurons tuned from 100-340 Hz frequencies\n",
    "\n",
    "# Training\n",
    "channelBasis, C = create_channel_basis(nChannels, exponent, nStimuli)\n",
    "print(\"Data ready.\")\n",
    "W_estimated, B_predicted = model_fit(C, B_train)\n",
    "print(\"Model fit ready.\")\n",
    "\n",
    "C_estimated, r2, probability, means_vec, sigmas_vec, amplitudes_vec, error_Hz_vec = analysis(B_test, B_predicted, W_estimated, nVoxels, nStimuli, initial_frequency, likelihoods_covar_independent_same)\n",
    "# This last function is what I modified, where the information for the covariance matrix is.\n",
    "B = np.asarray([elem for pair in zip(B_train, B_test) for elem in pair]) # Code suggested by ChatGPT on Nov 27"
   ]
  },
  {
   "cell_type": "code",
   "execution_count": 24,
   "id": "eb137ad5",
   "metadata": {
    "scrolled": true
   },
   "outputs": [
    {
     "data": {
      "image/png": "[encoded data removed]",
      "text/plain": [
       "<Figure size 432x288 with 1 Axes>"
      ]
     },
     "metadata": {
      "needs_background": "light"
     },
     "output_type": "display_data"
    }
   ],
   "source": [
    "# Voxel response\n",
    "# initial_plots(B, C_estimated, r2, probability, means_vec, sigmas_vec, amplitudes_vec)\n",
    "# other_plots(means_vec, sigmas_vec, amplitudes_vec, initial_frequency, probability, tactile_stimuli, error_Hz_vec)\n",
    "\n",
    "# Calculating the error of the fitted gaussian's mean compared to the real frequency.\n",
    "plt.scatter(tactile_stimuli, error_Hz_vec, c=\"k\")#, label=label_Hz)\n",
    "plt.hlines(np.mean(error_Hz_vec), tactile_stimuli[0], tactile_stimuli[len(tactile_stimuli)-1],\n",
    "           linestyle='dashed', colors = 'r')\n",
    "plt.ylim([-10,240])\n",
    "plt.xlabel(r'Decoded Frequency [Hz]')\n",
    "plt.ylabel(r'Average error per condition')    \n",
    "plt.title(\"Tr1-Te2, Covar independent same\\n Mean Error \"+str(np.round(np.mean(error_Hz_vec), 2)))\n",
    "# plt.show()\n",
    "plt.savefig('Graphs/covariance/S'+subject_number+'_B_Tr1-Te2_covar_ind_same.jpg')\n",
    "\n",
    "vec_mean_errors_covar_same[2] = np.mean(error_Hz_vec)"
   ]
  },
  {
   "cell_type": "markdown",
   "id": "8c1b87bb",
   "metadata": {},
   "source": [
    "## Repeat the same procedure (train, decode, shuffle) for for the other fold. Store the data.\n",
    "\n",
    "### Training the model on the other fold of that condition.\n",
    "\n",
    "Now,\n",
    "\n",
    "condition_matrix -> test_matrix\n",
    "\n",
    "matrix -> train_matrix"
   ]
  },
  {
   "cell_type": "code",
   "execution_count": 25,
   "id": "ee8b81de",
   "metadata": {},
   "outputs": [
    {
     "name": "stdout",
     "output_type": "stream",
     "text": [
      "nVoxels 341\n",
      "Data ready.\n",
      "Model fit ready.\n",
      "Covar independent, same values\n",
      " Residual variance 0.09362394617147315\n",
      "--- 12.357905864715576 seconds ---\n"
     ]
    }
   ],
   "source": [
    "# Modified cell for use in real data from cell above called: Creating simulated data\n",
    "# Initializing variables\n",
    "nStimuli = 9\n",
    "# nRepeats = 2 # These are the number of overall BOLD coefficients in the big matrix\n",
    "# nNeurons = 120\n",
    "# sigma = 10\n",
    "# nVoxels = 500 # train_matrix.shape[0] # number of voxels\n",
    "# noiseStandardDeviation = 0.35 # 0.4\n",
    "\n",
    "nChannels = 9 # Note how in this particular case, nStimuli = nChannels = 8\n",
    "exponent = 7\n",
    "nfrequencies = 241\n",
    "initial_frequency = 100\n",
    "\n",
    "# stimuli, frequency_range, B, neuralResponse = simulate_data(nStimuli, nRepeats, nNeurons, sigma,\n",
    "#                                                             nVoxels, noiseStandardDeviation)\n",
    "\n",
    "# Dude. The detail was that // was performing a floor division operator.\n",
    "# X1 = np.array([ [B[i][k] for i in range(B.shape[0]) if i % 2 == 0] for k in range(B.shape[1])]).T\n",
    "# X2 = np.array([ [B[i][k] for i in range(B.shape[0]) if i % 2 == 1] for k in range(B.shape[1])]).T\n",
    "\n",
    "B_train = test_matrix.T # B_train = train_matrix.T # trainVoxelResponse (B1) [txv]\n",
    "B_test = train_matrix.T # B_test = test_matrix.T # testVoxelResponse (B2) [txv]\n",
    "nVoxels = B_train.shape[1]\n",
    "print(\"nVoxels\", nVoxels)\n",
    "\n",
    "# Simulating tactile stimuli\n",
    "tactile_stimuli = [i*30+initial_frequency for i in range(nStimuli)]\n",
    "stimuli = np.asarray([tactile_stimuli[i//2] for i in range(len(tactile_stimuli)*2)])\n",
    "frequency_range = np.arange(initial_frequency, initial_frequency+nfrequencies) # Neurons tuned from 100-340 Hz frequencies\n",
    "\n",
    "# Training\n",
    "channelBasis, C = create_channel_basis(nChannels, exponent, nStimuli)\n",
    "print(\"Data ready.\")\n",
    "W_estimated, B_predicted = model_fit(C, B_train)\n",
    "print(\"Model fit ready.\")\n",
    "\n",
    "C_estimated, r2, probability, means_vec, sigmas_vec, amplitudes_vec, error_Hz_vec = analysis(B_test, B_predicted, W_estimated, nVoxels, nStimuli, initial_frequency, likelihoods_covar_independent_same)\n",
    "# This analysis function is what I modified, where the information for the covariance matrix is.\n",
    "B = np.asarray([elem for pair in zip(B_train, B_test) for elem in pair]) # Code suggested by ChatGPT on Nov 27"
   ]
  },
  {
   "cell_type": "code",
   "execution_count": 26,
   "id": "c84b8626",
   "metadata": {
    "scrolled": true
   },
   "outputs": [
    {
     "data": {
      "image/png": "[encoded data removed]",
      "text/plain": [
       "<Figure size 432x288 with 1 Axes>"
      ]
     },
     "metadata": {
      "needs_background": "light"
     },
     "output_type": "display_data"
    }
   ],
   "source": [
    "# Voxel response\n",
    "# initial_plots(B, C_estimated, r2, probability, means_vec, sigmas_vec, amplitudes_vec)\n",
    "# other_plots(means_vec, sigmas_vec, amplitudes_vec, initial_frequency, probability, tactile_stimuli, error_Hz_vec)\n",
    "\n",
    "# Calculating the error of the fitted gaussian's mean compared to the real frequency.\n",
    "plt.scatter(tactile_stimuli, error_Hz_vec, c=\"k\")#, label=label_Hz)\n",
    "plt.hlines(np.mean(error_Hz_vec), tactile_stimuli[0], tactile_stimuli[len(tactile_stimuli)-1],\n",
    "           linestyle='dashed', colors = 'r')\n",
    "plt.ylim([-10,240])\n",
    "plt.xlabel(r'Decoded Frequency [Hz]')\n",
    "plt.ylabel(r'Average error per condition')    \n",
    "plt.title(\"Tr2-Te1, Covar independent same\\n Mean Error \"+str(np.round(np.mean(error_Hz_vec), 2)))\n",
    "# plt.show()\n",
    "plt.savefig('Graphs/covariance/S'+subject_number+'_B_Tr2-Te1_covar_ind_same.jpg')\n",
    "\n",
    "vec_mean_errors_covar_same[3] = np.mean(error_Hz_vec)"
   ]
  },
  {
   "cell_type": "code",
   "execution_count": null,
   "id": "ba7c65ee",
   "metadata": {},
   "outputs": [],
   "source": []
  },
  {
   "cell_type": "markdown",
   "id": "66001f8c",
   "metadata": {},
   "source": [
    "# `likelihoods_covar_independent_different`"
   ]
  },
  {
   "cell_type": "code",
   "execution_count": 27,
   "id": "f2f1c753",
   "metadata": {},
   "outputs": [
    {
     "name": "stdout",
     "output_type": "stream",
     "text": [
      "Data ready.\n",
      "Model fit ready.\n",
      "(341,)\n",
      "Covar independent, different values\n",
      "  Residual variance 0.09362394617147314\n",
      "max residual variance 1.4954140366655537\n",
      "min residual variance 0.00843352726254321\n",
      "--- 13.263978958129883 seconds ---\n"
     ]
    }
   ],
   "source": [
    "# Modified cell for use in real data from cell above called: Creating simulated data\n",
    "# Initializing variables\n",
    "nStimuli = 9\n",
    "# nRepeats = 2 # These are the number of overall BOLD coefficients in the big matrix\n",
    "# nNeurons = 120\n",
    "# sigma = 10\n",
    "# nVoxels = 500 # train_matrix.shape[0] # number of voxels\n",
    "# noiseStandardDeviation = 0.35 # 0.4\n",
    "\n",
    "nChannels = 9 # Note how in this particular case, nStimuli = nChannels = 8\n",
    "exponent = 7\n",
    "nfrequencies = 241\n",
    "initial_frequency = 100\n",
    "\n",
    "# stimuli, frequency_range, B, neuralResponse = simulate_data(nStimuli, nRepeats, nNeurons, sigma,\n",
    "#                                                             nVoxels, noiseStandardDeviation)\n",
    "\n",
    "# Dude. The detail was that // was performing a floor division operator.\n",
    "# X1 = np.array([ [B[i][k] for i in range(B.shape[0]) if i % 2 == 0] for k in range(B.shape[1])]).T\n",
    "# X2 = np.array([ [B[i][k] for i in range(B.shape[0]) if i % 2 == 1] for k in range(B.shape[1])]).T\n",
    "\n",
    "B_train = train_matrix.T # B_train = train_matrix.T # trainVoxelResponse (B1) [txv]\n",
    "B_test = test_matrix.T # B_test = test_matrix.T # testVoxelResponse (B2) [txv]\n",
    "nVoxels = B_train.shape[1]\n",
    "\n",
    "# Simulating tactile stimuli\n",
    "tactile_stimuli = [i*30+initial_frequency for i in range(nStimuli)]\n",
    "stimuli = np.asarray([tactile_stimuli[i//2] for i in range(len(tactile_stimuli)*2)])\n",
    "frequency_range = np.arange(initial_frequency, initial_frequency+nfrequencies) # Neurons tuned from 100-340 Hz frequencies\n",
    "\n",
    "# Training\n",
    "channelBasis, C = create_channel_basis(nChannels, exponent, nStimuli)\n",
    "print(\"Data ready.\")\n",
    "W_estimated, B_predicted = model_fit(C, B_train)\n",
    "print(\"Model fit ready.\")\n",
    "\n",
    "C_estimated, r2, probability, means_vec, sigmas_vec, amplitudes_vec, error_Hz_vec = analysis(B_test, B_predicted, W_estimated, nVoxels, nStimuli, initial_frequency, likelihoods_covar_independent_different)\n",
    "# This last function is what I modified, where the information for the covariance matrix is.\n",
    "B = np.asarray([elem for pair in zip(B_train, B_test) for elem in pair]) # Code suggested by ChatGPT on Nov 27"
   ]
  },
  {
   "cell_type": "code",
   "execution_count": 28,
   "id": "05e614cc",
   "metadata": {
    "scrolled": true
   },
   "outputs": [
    {
     "data": {
      "image/png": "[encoded data removed]",
      "text/plain": [
       "<Figure size 432x288 with 1 Axes>"
      ]
     },
     "metadata": {
      "needs_background": "light"
     },
     "output_type": "display_data"
    }
   ],
   "source": [
    "# Voxel response\n",
    "# initial_plots(B, C_estimated, r2, probability, means_vec, sigmas_vec, amplitudes_vec)\n",
    "# other_plots(means_vec, sigmas_vec, amplitudes_vec, initial_frequency, probability, tactile_stimuli, error_Hz_vec)\n",
    "\n",
    "# Calculating the error of the fitted gaussian's mean compared to the real frequency.\n",
    "plt.scatter(tactile_stimuli, error_Hz_vec, c=\"k\")#, label=label_Hz)\n",
    "plt.hlines(np.mean(error_Hz_vec), tactile_stimuli[0], tactile_stimuli[len(tactile_stimuli)-1],\n",
    "           linestyle='dashed', colors = 'r')\n",
    "plt.ylim([-10,240])\n",
    "plt.xlabel(r'Decoded Frequency [Hz]')\n",
    "plt.ylabel(r'Average error per condition')    \n",
    "plt.title(\"Tr1-Te2, Covar independent different\\n Mean Error \"+str(np.round(np.mean(error_Hz_vec), 2)))\n",
    "# plt.show()\n",
    "plt.savefig('Graphs/covariance/S'+subject_number+'_B_Tr1-Te2_covar_ind_diff.jpg')\n",
    "\n",
    "vec_mean_errors_covar_different[2] = np.mean(error_Hz_vec)"
   ]
  },
  {
   "cell_type": "code",
   "execution_count": 29,
   "id": "2466e635",
   "metadata": {},
   "outputs": [
    {
     "name": "stdout",
     "output_type": "stream",
     "text": [
      "nVoxels 341\n",
      "Data ready.\n",
      "Model fit ready.\n",
      "(341,)\n",
      "Covar independent, different values\n",
      "  Residual variance 0.09362394617147315\n",
      "max residual variance 1.4954140366655535\n",
      "min residual variance 0.008433527262543199\n",
      "--- 17.399037837982178 seconds ---\n"
     ]
    }
   ],
   "source": [
    "# Modified cell for use in real data from cell above called: Creating simulated data\n",
    "# Initializing variables\n",
    "nStimuli = 9\n",
    "# nRepeats = 2 # These are the number of overall BOLD coefficients in the big matrix\n",
    "# nNeurons = 120\n",
    "# sigma = 10\n",
    "# nVoxels = 500 # train_matrix.shape[0] # number of voxels\n",
    "# noiseStandardDeviation = 0.35 # 0.4\n",
    "\n",
    "nChannels = 9 # Note how in this particular case, nStimuli = nChannels = 8\n",
    "exponent = 7\n",
    "nfrequencies = 241\n",
    "initial_frequency = 100\n",
    "\n",
    "# stimuli, frequency_range, B, neuralResponse = simulate_data(nStimuli, nRepeats, nNeurons, sigma,\n",
    "#                                                             nVoxels, noiseStandardDeviation)\n",
    "\n",
    "# Dude. The detail was that // was performing a floor division operator.\n",
    "# X1 = np.array([ [B[i][k] for i in range(B.shape[0]) if i % 2 == 0] for k in range(B.shape[1])]).T\n",
    "# X2 = np.array([ [B[i][k] for i in range(B.shape[0]) if i % 2 == 1] for k in range(B.shape[1])]).T\n",
    "\n",
    "B_train = test_matrix.T # B_train = train_matrix.T # trainVoxelResponse (B1) [txv]\n",
    "B_test = train_matrix.T # B_test = test_matrix.T # testVoxelResponse (B2) [txv]\n",
    "nVoxels = B_train.shape[1]\n",
    "print(\"nVoxels\", nVoxels)\n",
    "\n",
    "# Simulating tactile stimuli\n",
    "tactile_stimuli = [i*30+initial_frequency for i in range(nStimuli)]\n",
    "stimuli = np.asarray([tactile_stimuli[i//2] for i in range(len(tactile_stimuli)*2)])\n",
    "frequency_range = np.arange(initial_frequency, initial_frequency+nfrequencies) # Neurons tuned from 100-340 Hz frequencies\n",
    "\n",
    "# Training\n",
    "channelBasis, C = create_channel_basis(nChannels, exponent, nStimuli)\n",
    "print(\"Data ready.\")\n",
    "W_estimated, B_predicted = model_fit(C, B_train)\n",
    "print(\"Model fit ready.\")\n",
    "\n",
    "C_estimated, r2, probability, means_vec, sigmas_vec, amplitudes_vec, error_Hz_vec = analysis(B_test, B_predicted, W_estimated, nVoxels, nStimuli, initial_frequency, likelihoods_covar_independent_different)\n",
    "# This analysis function is what I modified, where the information for the covariance matrix is.\n",
    "B = np.asarray([elem for pair in zip(B_train, B_test) for elem in pair]) # Code suggested by ChatGPT on Nov 27"
   ]
  },
  {
   "cell_type": "code",
   "execution_count": 30,
   "id": "9f782771",
   "metadata": {
    "scrolled": true
   },
   "outputs": [
    {
     "data": {
      "image/png": "[encoded data removed]",
      "text/plain": [
       "<Figure size 432x288 with 1 Axes>"
      ]
     },
     "metadata": {
      "needs_background": "light"
     },
     "output_type": "display_data"
    }
   ],
   "source": [
    "# Voxel response\n",
    "# initial_plots(B, C_estimated, r2, probability, means_vec, sigmas_vec, amplitudes_vec)\n",
    "# other_plots(means_vec, sigmas_vec, amplitudes_vec, initial_frequency, probability, tactile_stimuli, error_Hz_vec)\n",
    "\n",
    "# Calculating the error of the fitted gaussian's mean compared to the real frequency.\n",
    "plt.scatter(tactile_stimuli, error_Hz_vec, c=\"k\")#, label=label_Hz)\n",
    "plt.hlines(np.mean(error_Hz_vec), tactile_stimuli[0], tactile_stimuli[len(tactile_stimuli)-1],\n",
    "           linestyle='dashed', colors = 'r')\n",
    "plt.ylim([-10,240])\n",
    "plt.xlabel(r'Decoded Frequency [Hz]')\n",
    "plt.ylabel(r'Average error per condition')    \n",
    "plt.title(\"Tr2-Te1, Covar independent different\\n Mean Error \"+str(np.round(np.mean(error_Hz_vec), 2)))\n",
    "# plt.show()\n",
    "plt.savefig('Graphs/covariance/S'+subject_number+'_B_Tr2-Te1_covar_ind_diff.jpg')\n",
    "\n",
    "vec_mean_errors_covar_different[3] = np.mean(error_Hz_vec)"
   ]
  },
  {
   "cell_type": "code",
   "execution_count": null,
   "id": "28dde204",
   "metadata": {},
   "outputs": [],
   "source": []
  },
  {
   "cell_type": "code",
   "execution_count": null,
   "id": "eb35c2da",
   "metadata": {},
   "outputs": [],
   "source": []
  },
  {
   "cell_type": "code",
   "execution_count": null,
   "id": "eda5b4ff",
   "metadata": {},
   "outputs": [],
   "source": []
  },
  {
   "cell_type": "code",
   "execution_count": null,
   "id": "7d51665d",
   "metadata": {},
   "outputs": [],
   "source": []
  },
  {
   "cell_type": "code",
   "execution_count": null,
   "id": "1d4462a6",
   "metadata": {},
   "outputs": [],
   "source": []
  },
  {
   "cell_type": "markdown",
   "id": "c3ded27d",
   "metadata": {},
   "source": [
    "### Condition C"
   ]
  },
  {
   "cell_type": "code",
   "execution_count": 31,
   "id": "dcbc7d1c",
   "metadata": {},
   "outputs": [],
   "source": [
    "condition = \"C\"\n",
    "train_matrix = C1[mask_all] # condition_matrix\n",
    "test_matrix = C2[mask_all] # matrix"
   ]
  },
  {
   "cell_type": "markdown",
   "id": "df2f80bf",
   "metadata": {},
   "source": [
    "# `likelihoods_covar_independent_same`"
   ]
  },
  {
   "cell_type": "code",
   "execution_count": 32,
   "id": "985925b2",
   "metadata": {},
   "outputs": [
    {
     "name": "stdout",
     "output_type": "stream",
     "text": [
      "Data ready.\n",
      "Model fit ready.\n",
      "Covar independent, same values\n",
      " Residual variance 0.11138541614286553\n",
      "--- 15.2375648021698 seconds ---\n"
     ]
    }
   ],
   "source": [
    "# Modified cell for use in real data from cell above called: Creating simulated data\n",
    "# Initializing variables\n",
    "nStimuli = 9\n",
    "# nRepeats = 2 # These are the number of overall BOLD coefficients in the big matrix\n",
    "# nNeurons = 120\n",
    "# sigma = 10\n",
    "# nVoxels = 500 # train_matrix.shape[0] # number of voxels\n",
    "# noiseStandardDeviation = 0.35 # 0.4\n",
    "\n",
    "nChannels = 9 # Note how in this particular case, nStimuli = nChannels = 8\n",
    "exponent = 7\n",
    "nfrequencies = 241\n",
    "initial_frequency = 100\n",
    "\n",
    "# stimuli, frequency_range, B, neuralResponse = simulate_data(nStimuli, nRepeats, nNeurons, sigma,\n",
    "#                                                             nVoxels, noiseStandardDeviation)\n",
    "\n",
    "# Dude. The detail was that // was performing a floor division operator.\n",
    "# X1 = np.array([ [B[i][k] for i in range(B.shape[0]) if i % 2 == 0] for k in range(B.shape[1])]).T\n",
    "# X2 = np.array([ [B[i][k] for i in range(B.shape[0]) if i % 2 == 1] for k in range(B.shape[1])]).T\n",
    "\n",
    "B_train = train_matrix.T # B_train = train_matrix.T # trainVoxelResponse (B1) [txv]\n",
    "B_test = test_matrix.T # B_test = test_matrix.T # testVoxelResponse (B2) [txv]\n",
    "nVoxels = B_train.shape[1]\n",
    "\n",
    "# Simulating tactile stimuli\n",
    "tactile_stimuli = [i*30+initial_frequency for i in range(nStimuli)]\n",
    "stimuli = np.asarray([tactile_stimuli[i//2] for i in range(len(tactile_stimuli)*2)])\n",
    "frequency_range = np.arange(initial_frequency, initial_frequency+nfrequencies) # Neurons tuned from 100-340 Hz frequencies\n",
    "\n",
    "# Training\n",
    "channelBasis, C = create_channel_basis(nChannels, exponent, nStimuli)\n",
    "print(\"Data ready.\")\n",
    "W_estimated, B_predicted = model_fit(C, B_train)\n",
    "print(\"Model fit ready.\")\n",
    "\n",
    "C_estimated, r2, probability, means_vec, sigmas_vec, amplitudes_vec, error_Hz_vec = analysis(B_test, B_predicted, W_estimated, nVoxels, nStimuli, initial_frequency, likelihoods_covar_independent_same)\n",
    "# This last function is what I modified, where the information for the covariance matrix is.\n",
    "B = np.asarray([elem for pair in zip(B_train, B_test) for elem in pair]) # Code suggested by ChatGPT on Nov 27"
   ]
  },
  {
   "cell_type": "code",
   "execution_count": 33,
   "id": "dcc831d3",
   "metadata": {
    "scrolled": true
   },
   "outputs": [
    {
     "data": {
      "image/png": "[encoded data removed]",
      "text/plain": [
       "<Figure size 432x288 with 1 Axes>"
      ]
     },
     "metadata": {
      "needs_background": "light"
     },
     "output_type": "display_data"
    }
   ],
   "source": [
    "# Voxel response\n",
    "# initial_plots(B, C_estimated, r2, probability, means_vec, sigmas_vec, amplitudes_vec)\n",
    "# other_plots(means_vec, sigmas_vec, amplitudes_vec, initial_frequency, probability, tactile_stimuli, error_Hz_vec)\n",
    "\n",
    "# Calculating the error of the fitted gaussian's mean compared to the real frequency.\n",
    "plt.scatter(tactile_stimuli, error_Hz_vec, c=\"k\")#, label=label_Hz)\n",
    "plt.hlines(np.mean(error_Hz_vec), tactile_stimuli[0], tactile_stimuli[len(tactile_stimuli)-1],\n",
    "           linestyle='dashed', colors = 'r')\n",
    "plt.ylim([-10,240])\n",
    "plt.xlabel(r'Decoded Frequency [Hz]')\n",
    "plt.ylabel(r'Average error per condition')    \n",
    "plt.title(\"Tr1-Te2, Covar independent same\\n Mean Error \"+str(np.round(np.mean(error_Hz_vec), 2)))\n",
    "# plt.show()\n",
    "plt.savefig('Graphs/covariance/S'+subject_number+'_C_Tr1-Te2_covar_ind_same.jpg')\n",
    "\n",
    "vec_mean_errors_covar_same[4] = np.mean(error_Hz_vec)"
   ]
  },
  {
   "cell_type": "markdown",
   "id": "d5c1b2ba",
   "metadata": {},
   "source": [
    "## Repeat the same procedure (train, decode, shuffle) for for the other fold. Store the data.\n",
    "\n",
    "### Training the model on the other fold of that condition.\n",
    "\n",
    "Now,\n",
    "\n",
    "condition_matrix -> test_matrix\n",
    "\n",
    "matrix -> train_matrix"
   ]
  },
  {
   "cell_type": "code",
   "execution_count": 34,
   "id": "82adb9c2",
   "metadata": {},
   "outputs": [
    {
     "name": "stdout",
     "output_type": "stream",
     "text": [
      "nVoxels 341\n",
      "Data ready.\n",
      "Model fit ready.\n",
      "Covar independent, same values\n",
      " Residual variance 0.1113854161428655\n",
      "--- 19.156771183013916 seconds ---\n"
     ]
    }
   ],
   "source": [
    "# Modified cell for use in real data from cell above called: Creating simulated data\n",
    "# Initializing variables\n",
    "nStimuli = 9\n",
    "# nRepeats = 2 # These are the number of overall BOLD coefficients in the big matrix\n",
    "# nNeurons = 120\n",
    "# sigma = 10\n",
    "# nVoxels = 500 # train_matrix.shape[0] # number of voxels\n",
    "# noiseStandardDeviation = 0.35 # 0.4\n",
    "\n",
    "nChannels = 9 # Note how in this particular case, nStimuli = nChannels = 8\n",
    "exponent = 7\n",
    "nfrequencies = 241\n",
    "initial_frequency = 100\n",
    "\n",
    "# stimuli, frequency_range, B, neuralResponse = simulate_data(nStimuli, nRepeats, nNeurons, sigma,\n",
    "#                                                             nVoxels, noiseStandardDeviation)\n",
    "\n",
    "# Dude. The detail was that // was performing a floor division operator.\n",
    "# X1 = np.array([ [B[i][k] for i in range(B.shape[0]) if i % 2 == 0] for k in range(B.shape[1])]).T\n",
    "# X2 = np.array([ [B[i][k] for i in range(B.shape[0]) if i % 2 == 1] for k in range(B.shape[1])]).T\n",
    "\n",
    "B_train = test_matrix.T # B_train = train_matrix.T # trainVoxelResponse (B1) [txv]\n",
    "B_test = train_matrix.T # B_test = test_matrix.T # testVoxelResponse (B2) [txv]\n",
    "nVoxels = B_train.shape[1]\n",
    "print(\"nVoxels\", nVoxels)\n",
    "\n",
    "# Simulating tactile stimuli\n",
    "tactile_stimuli = [i*30+initial_frequency for i in range(nStimuli)]\n",
    "stimuli = np.asarray([tactile_stimuli[i//2] for i in range(len(tactile_stimuli)*2)])\n",
    "frequency_range = np.arange(initial_frequency, initial_frequency+nfrequencies) # Neurons tuned from 100-340 Hz frequencies\n",
    "\n",
    "# Training\n",
    "channelBasis, C = create_channel_basis(nChannels, exponent, nStimuli)\n",
    "print(\"Data ready.\")\n",
    "W_estimated, B_predicted = model_fit(C, B_train)\n",
    "print(\"Model fit ready.\")\n",
    "\n",
    "C_estimated, r2, probability, means_vec, sigmas_vec, amplitudes_vec, error_Hz_vec = analysis(B_test, B_predicted, W_estimated, nVoxels, nStimuli, initial_frequency, likelihoods_covar_independent_same)\n",
    "# This analysis function is what I modified, where the information for the covariance matrix is.\n",
    "B = np.asarray([elem for pair in zip(B_train, B_test) for elem in pair]) # Code suggested by ChatGPT on Nov 27"
   ]
  },
  {
   "cell_type": "code",
   "execution_count": 35,
   "id": "914c70cb",
   "metadata": {
    "scrolled": true
   },
   "outputs": [
    {
     "data": {
      "image/png": "[encoded data removed]",
      "text/plain": [
       "<Figure size 432x288 with 1 Axes>"
      ]
     },
     "metadata": {
      "needs_background": "light"
     },
     "output_type": "display_data"
    }
   ],
   "source": [
    "# Voxel response\n",
    "# initial_plots(B, C_estimated, r2, probability, means_vec, sigmas_vec, amplitudes_vec)\n",
    "# other_plots(means_vec, sigmas_vec, amplitudes_vec, initial_frequency, probability, tactile_stimuli, error_Hz_vec)\n",
    "\n",
    "# Calculating the error of the fitted gaussian's mean compared to the real frequency.\n",
    "plt.scatter(tactile_stimuli, error_Hz_vec, c=\"k\")#, label=label_Hz)\n",
    "plt.hlines(np.mean(error_Hz_vec), tactile_stimuli[0], tactile_stimuli[len(tactile_stimuli)-1],\n",
    "           linestyle='dashed', colors = 'r')\n",
    "plt.ylim([-10,240])\n",
    "plt.xlabel(r'Decoded Frequency [Hz]')\n",
    "plt.ylabel(r'Average error per condition')    \n",
    "plt.title(\"Tr2-Te1, Covar independent same\\n Mean Error \"+str(np.round(np.mean(error_Hz_vec), 2)))\n",
    "# plt.show()\n",
    "plt.savefig('Graphs/covariance/S'+subject_number+'_C_Tr2-Te1_covar_ind_same.jpg')\n",
    "\n",
    "vec_mean_errors_covar_same[5] = np.mean(error_Hz_vec)"
   ]
  },
  {
   "cell_type": "code",
   "execution_count": null,
   "id": "ef509ff9",
   "metadata": {},
   "outputs": [],
   "source": []
  },
  {
   "cell_type": "markdown",
   "id": "c5bb08d6",
   "metadata": {},
   "source": [
    "# `likelihoods_covar_independent_different`"
   ]
  },
  {
   "cell_type": "code",
   "execution_count": 36,
   "id": "2414b209",
   "metadata": {},
   "outputs": [
    {
     "name": "stdout",
     "output_type": "stream",
     "text": [
      "Data ready.\n",
      "Model fit ready.\n",
      "(341,)\n",
      "Covar independent, different values\n",
      "  Residual variance 0.11138541614286553\n",
      "max residual variance 1.5210005633229864\n",
      "min residual variance 0.007164728213555562\n",
      "--- 16.62579107284546 seconds ---\n"
     ]
    }
   ],
   "source": [
    "# Modified cell for use in real data from cell above called: Creating simulated data\n",
    "# Initializing variables\n",
    "nStimuli = 9\n",
    "# nRepeats = 2 # These are the number of overall BOLD coefficients in the big matrix\n",
    "# nNeurons = 120\n",
    "# sigma = 10\n",
    "# nVoxels = 500 # train_matrix.shape[0] # number of voxels\n",
    "# noiseStandardDeviation = 0.35 # 0.4\n",
    "\n",
    "nChannels = 9 # Note how in this particular case, nStimuli = nChannels = 8\n",
    "exponent = 7\n",
    "nfrequencies = 241\n",
    "initial_frequency = 100\n",
    "\n",
    "# stimuli, frequency_range, B, neuralResponse = simulate_data(nStimuli, nRepeats, nNeurons, sigma,\n",
    "#                                                             nVoxels, noiseStandardDeviation)\n",
    "\n",
    "# Dude. The detail was that // was performing a floor division operator.\n",
    "# X1 = np.array([ [B[i][k] for i in range(B.shape[0]) if i % 2 == 0] for k in range(B.shape[1])]).T\n",
    "# X2 = np.array([ [B[i][k] for i in range(B.shape[0]) if i % 2 == 1] for k in range(B.shape[1])]).T\n",
    "\n",
    "B_train = train_matrix.T # B_train = train_matrix.T # trainVoxelResponse (B1) [txv]\n",
    "B_test = test_matrix.T # B_test = test_matrix.T # testVoxelResponse (B2) [txv]\n",
    "nVoxels = B_train.shape[1]\n",
    "\n",
    "# Simulating tactile stimuli\n",
    "tactile_stimuli = [i*30+initial_frequency for i in range(nStimuli)]\n",
    "stimuli = np.asarray([tactile_stimuli[i//2] for i in range(len(tactile_stimuli)*2)])\n",
    "frequency_range = np.arange(initial_frequency, initial_frequency+nfrequencies) # Neurons tuned from 100-340 Hz frequencies\n",
    "\n",
    "# Training\n",
    "channelBasis, C = create_channel_basis(nChannels, exponent, nStimuli)\n",
    "print(\"Data ready.\")\n",
    "W_estimated, B_predicted = model_fit(C, B_train)\n",
    "print(\"Model fit ready.\")\n",
    "\n",
    "C_estimated, r2, probability, means_vec, sigmas_vec, amplitudes_vec, error_Hz_vec = analysis(B_test, B_predicted, W_estimated, nVoxels, nStimuli, initial_frequency, likelihoods_covar_independent_different)\n",
    "# This last function is what I modified, where the information for the covariance matrix is.\n",
    "B = np.asarray([elem for pair in zip(B_train, B_test) for elem in pair]) # Code suggested by ChatGPT on Nov 27"
   ]
  },
  {
   "cell_type": "code",
   "execution_count": 37,
   "id": "510a5ac1",
   "metadata": {
    "scrolled": true
   },
   "outputs": [
    {
     "data": {
      "image/png": "[encoded data removed]",
      "text/plain": [
       "<Figure size 432x288 with 1 Axes>"
      ]
     },
     "metadata": {
      "needs_background": "light"
     },
     "output_type": "display_data"
    }
   ],
   "source": [
    "# Voxel response\n",
    "# initial_plots(B, C_estimated, r2, probability, means_vec, sigmas_vec, amplitudes_vec)\n",
    "# other_plots(means_vec, sigmas_vec, amplitudes_vec, initial_frequency, probability, tactile_stimuli, error_Hz_vec)\n",
    "\n",
    "# Calculating the error of the fitted gaussian's mean compared to the real frequency.\n",
    "plt.scatter(tactile_stimuli, error_Hz_vec, c=\"k\")#, label=label_Hz)\n",
    "plt.hlines(np.mean(error_Hz_vec), tactile_stimuli[0], tactile_stimuli[len(tactile_stimuli)-1],\n",
    "           linestyle='dashed', colors = 'r')\n",
    "plt.ylim([-10,240])\n",
    "plt.xlabel(r'Decoded Frequency [Hz]')\n",
    "plt.ylabel(r'Average error per condition')    \n",
    "plt.title(\"Tr1-Te2, Covar independent different\\n Mean Error \"+str(np.round(np.mean(error_Hz_vec), 2)))\n",
    "# plt.show()\n",
    "plt.savefig('Graphs/covariance/S'+subject_number+'_C_Tr1-Te2_covar_ind_diff.jpg')\n",
    "\n",
    "vec_mean_errors_covar_different[4] = np.mean(error_Hz_vec)"
   ]
  },
  {
   "cell_type": "code",
   "execution_count": 38,
   "id": "29828efe",
   "metadata": {},
   "outputs": [
    {
     "name": "stdout",
     "output_type": "stream",
     "text": [
      "nVoxels 341\n",
      "Data ready.\n",
      "Model fit ready.\n",
      "(341,)\n",
      "Covar independent, different values\n",
      "  Residual variance 0.1113854161428655\n",
      "max residual variance 1.521000563322988\n",
      "min residual variance 0.0071647282135555435\n",
      "--- 17.714540004730225 seconds ---\n"
     ]
    }
   ],
   "source": [
    "# Modified cell for use in real data from cell above called: Creating simulated data\n",
    "# Initializing variables\n",
    "nStimuli = 9\n",
    "# nRepeats = 2 # These are the number of overall BOLD coefficients in the big matrix\n",
    "# nNeurons = 120\n",
    "# sigma = 10\n",
    "# nVoxels = 500 # train_matrix.shape[0] # number of voxels\n",
    "# noiseStandardDeviation = 0.35 # 0.4\n",
    "\n",
    "nChannels = 9 # Note how in this particular case, nStimuli = nChannels = 8\n",
    "exponent = 7\n",
    "nfrequencies = 241\n",
    "initial_frequency = 100\n",
    "\n",
    "# stimuli, frequency_range, B, neuralResponse = simulate_data(nStimuli, nRepeats, nNeurons, sigma,\n",
    "#                                                             nVoxels, noiseStandardDeviation)\n",
    "\n",
    "# Dude. The detail was that // was performing a floor division operator.\n",
    "# X1 = np.array([ [B[i][k] for i in range(B.shape[0]) if i % 2 == 0] for k in range(B.shape[1])]).T\n",
    "# X2 = np.array([ [B[i][k] for i in range(B.shape[0]) if i % 2 == 1] for k in range(B.shape[1])]).T\n",
    "\n",
    "B_train = test_matrix.T # B_train = train_matrix.T # trainVoxelResponse (B1) [txv]\n",
    "B_test = train_matrix.T # B_test = test_matrix.T # testVoxelResponse (B2) [txv]\n",
    "nVoxels = B_train.shape[1]\n",
    "print(\"nVoxels\", nVoxels)\n",
    "\n",
    "# Simulating tactile stimuli\n",
    "tactile_stimuli = [i*30+initial_frequency for i in range(nStimuli)]\n",
    "stimuli = np.asarray([tactile_stimuli[i//2] for i in range(len(tactile_stimuli)*2)])\n",
    "frequency_range = np.arange(initial_frequency, initial_frequency+nfrequencies) # Neurons tuned from 100-340 Hz frequencies\n",
    "\n",
    "# Training\n",
    "channelBasis, C = create_channel_basis(nChannels, exponent, nStimuli)\n",
    "print(\"Data ready.\")\n",
    "W_estimated, B_predicted = model_fit(C, B_train)\n",
    "print(\"Model fit ready.\")\n",
    "\n",
    "C_estimated, r2, probability, means_vec, sigmas_vec, amplitudes_vec, error_Hz_vec = analysis(B_test, B_predicted, W_estimated, nVoxels, nStimuli, initial_frequency, likelihoods_covar_independent_different)\n",
    "# This analysis function is what I modified, where the information for the covariance matrix is.\n",
    "B = np.asarray([elem for pair in zip(B_train, B_test) for elem in pair]) # Code suggested by ChatGPT on Nov 27"
   ]
  },
  {
   "cell_type": "code",
   "execution_count": 39,
   "id": "ca5b691d",
   "metadata": {
    "scrolled": true
   },
   "outputs": [
    {
     "data": {
      "image/png": "[encoded data removed]",
      "text/plain": [
       "<Figure size 432x288 with 1 Axes>"
      ]
     },
     "metadata": {
      "needs_background": "light"
     },
     "output_type": "display_data"
    }
   ],
   "source": [
    "# Voxel response\n",
    "# initial_plots(B, C_estimated, r2, probability, means_vec, sigmas_vec, amplitudes_vec)\n",
    "# other_plots(means_vec, sigmas_vec, amplitudes_vec, initial_frequency, probability, tactile_stimuli, error_Hz_vec)\n",
    "\n",
    "# Calculating the error of the fitted gaussian's mean compared to the real frequency.\n",
    "plt.scatter(tactile_stimuli, error_Hz_vec, c=\"k\")#, label=label_Hz)\n",
    "plt.hlines(np.mean(error_Hz_vec), tactile_stimuli[0], tactile_stimuli[len(tactile_stimuli)-1],\n",
    "           linestyle='dashed', colors = 'r')\n",
    "plt.ylim([-10,240])\n",
    "plt.xlabel(r'Decoded Frequency [Hz]')\n",
    "plt.ylabel(r'Average error per condition')    \n",
    "plt.title(\"Tr2-Te1, Covar independent different\\n Mean Error \"+str(np.round(np.mean(error_Hz_vec), 2)))\n",
    "# plt.show()\n",
    "plt.savefig('Graphs/covariance/S'+subject_number+'_C_Tr2-Te1_covar_ind_diff.jpg')\n",
    "\n",
    "vec_mean_errors_covar_different[5] = np.mean(error_Hz_vec)"
   ]
  },
  {
   "cell_type": "code",
   "execution_count": null,
   "id": "8fac6dd2",
   "metadata": {},
   "outputs": [],
   "source": []
  },
  {
   "cell_type": "code",
   "execution_count": null,
   "id": "d9246a7a",
   "metadata": {},
   "outputs": [],
   "source": []
  },
  {
   "cell_type": "code",
   "execution_count": null,
   "id": "9fe4a135",
   "metadata": {},
   "outputs": [],
   "source": []
  },
  {
   "cell_type": "code",
   "execution_count": null,
   "id": "543b43b8",
   "metadata": {},
   "outputs": [],
   "source": []
  },
  {
   "cell_type": "code",
   "execution_count": null,
   "id": "2a9991ec",
   "metadata": {},
   "outputs": [],
   "source": []
  },
  {
   "cell_type": "code",
   "execution_count": null,
   "id": "e8fc4677",
   "metadata": {},
   "outputs": [],
   "source": []
  },
  {
   "cell_type": "markdown",
   "id": "f000c4d2",
   "metadata": {},
   "source": [
    "### Condition D"
   ]
  },
  {
   "cell_type": "code",
   "execution_count": 40,
   "id": "cd1ec0c7",
   "metadata": {},
   "outputs": [],
   "source": [
    "condition = \"D\"\n",
    "train_matrix = D1[mask_all] # condition_matrix\n",
    "test_matrix = D2[mask_all] # matrix"
   ]
  },
  {
   "cell_type": "markdown",
   "id": "1d1d3120",
   "metadata": {},
   "source": [
    "# `likelihoods_covar_independent_same`"
   ]
  },
  {
   "cell_type": "code",
   "execution_count": 41,
   "id": "acf35e48",
   "metadata": {},
   "outputs": [
    {
     "name": "stdout",
     "output_type": "stream",
     "text": [
      "Data ready.\n",
      "Model fit ready.\n",
      "Covar independent, same values\n",
      " Residual variance 0.110331899410513\n",
      "--- 15.985491752624512 seconds ---\n"
     ]
    }
   ],
   "source": [
    "# Modified cell for use in real data from cell above called: Creating simulated data\n",
    "# Initializing variables\n",
    "nStimuli = 9\n",
    "# nRepeats = 2 # These are the number of overall BOLD coefficients in the big matrix\n",
    "# nNeurons = 120\n",
    "# sigma = 10\n",
    "# nVoxels = 500 # train_matrix.shape[0] # number of voxels\n",
    "# noiseStandardDeviation = 0.35 # 0.4\n",
    "\n",
    "nChannels = 9 # Note how in this particular case, nStimuli = nChannels = 8\n",
    "exponent = 7\n",
    "nfrequencies = 241\n",
    "initial_frequency = 100\n",
    "\n",
    "# stimuli, frequency_range, B, neuralResponse = simulate_data(nStimuli, nRepeats, nNeurons, sigma,\n",
    "#                                                             nVoxels, noiseStandardDeviation)\n",
    "\n",
    "# Dude. The detail was that // was performing a floor division operator.\n",
    "# X1 = np.array([ [B[i][k] for i in range(B.shape[0]) if i % 2 == 0] for k in range(B.shape[1])]).T\n",
    "# X2 = np.array([ [B[i][k] for i in range(B.shape[0]) if i % 2 == 1] for k in range(B.shape[1])]).T\n",
    "\n",
    "B_train = train_matrix.T # B_train = train_matrix.T # trainVoxelResponse (B1) [txv]\n",
    "B_test = test_matrix.T # B_test = test_matrix.T # testVoxelResponse (B2) [txv]\n",
    "nVoxels = B_train.shape[1]\n",
    "\n",
    "# Simulating tactile stimuli\n",
    "tactile_stimuli = [i*30+initial_frequency for i in range(nStimuli)]\n",
    "stimuli = np.asarray([tactile_stimuli[i//2] for i in range(len(tactile_stimuli)*2)])\n",
    "frequency_range = np.arange(initial_frequency, initial_frequency+nfrequencies) # Neurons tuned from 100-340 Hz frequencies\n",
    "\n",
    "# Training\n",
    "channelBasis, C = create_channel_basis(nChannels, exponent, nStimuli)\n",
    "print(\"Data ready.\")\n",
    "W_estimated, B_predicted = model_fit(C, B_train)\n",
    "print(\"Model fit ready.\")\n",
    "\n",
    "C_estimated, r2, probability, means_vec, sigmas_vec, amplitudes_vec, error_Hz_vec = analysis(B_test, B_predicted, W_estimated, nVoxels, nStimuli, initial_frequency, likelihoods_covar_independent_same)\n",
    "# This last function is what I modified, where the information for the covariance matrix is.\n",
    "B = np.asarray([elem for pair in zip(B_train, B_test) for elem in pair]) # Code suggested by ChatGPT on Nov 27"
   ]
  },
  {
   "cell_type": "code",
   "execution_count": 42,
   "id": "bfc37e2e",
   "metadata": {
    "scrolled": true
   },
   "outputs": [
    {
     "data": {
      "image/png": "[encoded data removed]",
      "text/plain": [
       "<Figure size 432x288 with 1 Axes>"
      ]
     },
     "metadata": {
      "needs_background": "light"
     },
     "output_type": "display_data"
    }
   ],
   "source": [
    "# Voxel response\n",
    "# initial_plots(B, C_estimated, r2, probability, means_vec, sigmas_vec, amplitudes_vec)\n",
    "# other_plots(means_vec, sigmas_vec, amplitudes_vec, initial_frequency, probability, tactile_stimuli, error_Hz_vec)\n",
    "\n",
    "# Calculating the error of the fitted gaussian's mean compared to the real frequency.\n",
    "plt.scatter(tactile_stimuli, error_Hz_vec, c=\"k\")#, label=label_Hz)\n",
    "plt.hlines(np.mean(error_Hz_vec), tactile_stimuli[0], tactile_stimuli[len(tactile_stimuli)-1],\n",
    "           linestyle='dashed', colors = 'r')\n",
    "plt.ylim([-10,240])\n",
    "plt.xlabel(r'Decoded Frequency [Hz]')\n",
    "plt.ylabel(r'Average error per condition')    \n",
    "plt.title(\"Tr1-Te2, Covar independent same\\n Mean Error \"+str(np.round(np.mean(error_Hz_vec), 2)))\n",
    "# plt.show()\n",
    "plt.savefig('Graphs/covariance/S'+subject_number+'_D_Tr1-Te2_covar_ind_same.jpg')\n",
    "\n",
    "vec_mean_errors_covar_same[6] = np.mean(error_Hz_vec)"
   ]
  },
  {
   "cell_type": "markdown",
   "id": "b28bb234",
   "metadata": {},
   "source": [
    "## Repeat the same procedure (train, decode, shuffle) for for the other fold. Store the data.\n",
    "\n",
    "### Training the model on the other fold of that condition.\n",
    "\n",
    "Now,\n",
    "\n",
    "condition_matrix -> test_matrix\n",
    "\n",
    "matrix -> train_matrix"
   ]
  },
  {
   "cell_type": "code",
   "execution_count": 43,
   "id": "23828490",
   "metadata": {},
   "outputs": [
    {
     "name": "stdout",
     "output_type": "stream",
     "text": [
      "nVoxels 341\n",
      "Data ready.\n",
      "Model fit ready.\n",
      "Covar independent, same values\n",
      " Residual variance 0.110331899410513\n",
      "--- 13.021981954574585 seconds ---\n"
     ]
    }
   ],
   "source": [
    "# Modified cell for use in real data from cell above called: Creating simulated data\n",
    "# Initializing variables\n",
    "nStimuli = 9\n",
    "# nRepeats = 2 # These are the number of overall BOLD coefficients in the big matrix\n",
    "# nNeurons = 120\n",
    "# sigma = 10\n",
    "# nVoxels = 500 # train_matrix.shape[0] # number of voxels\n",
    "# noiseStandardDeviation = 0.35 # 0.4\n",
    "\n",
    "nChannels = 9 # Note how in this particular case, nStimuli = nChannels = 8\n",
    "exponent = 7\n",
    "nfrequencies = 241\n",
    "initial_frequency = 100\n",
    "\n",
    "# stimuli, frequency_range, B, neuralResponse = simulate_data(nStimuli, nRepeats, nNeurons, sigma,\n",
    "#                                                             nVoxels, noiseStandardDeviation)\n",
    "\n",
    "# Dude. The detail was that // was performing a floor division operator.\n",
    "# X1 = np.array([ [B[i][k] for i in range(B.shape[0]) if i % 2 == 0] for k in range(B.shape[1])]).T\n",
    "# X2 = np.array([ [B[i][k] for i in range(B.shape[0]) if i % 2 == 1] for k in range(B.shape[1])]).T\n",
    "\n",
    "B_train = test_matrix.T # B_train = train_matrix.T # trainVoxelResponse (B1) [txv]\n",
    "B_test = train_matrix.T # B_test = test_matrix.T # testVoxelResponse (B2) [txv]\n",
    "nVoxels = B_train.shape[1]\n",
    "print(\"nVoxels\", nVoxels)\n",
    "\n",
    "# Simulating tactile stimuli\n",
    "tactile_stimuli = [i*30+initial_frequency for i in range(nStimuli)]\n",
    "stimuli = np.asarray([tactile_stimuli[i//2] for i in range(len(tactile_stimuli)*2)])\n",
    "frequency_range = np.arange(initial_frequency, initial_frequency+nfrequencies) # Neurons tuned from 100-340 Hz frequencies\n",
    "\n",
    "# Training\n",
    "channelBasis, C = create_channel_basis(nChannels, exponent, nStimuli)\n",
    "print(\"Data ready.\")\n",
    "W_estimated, B_predicted = model_fit(C, B_train)\n",
    "print(\"Model fit ready.\")\n",
    "\n",
    "C_estimated, r2, probability, means_vec, sigmas_vec, amplitudes_vec, error_Hz_vec = analysis(B_test, B_predicted, W_estimated, nVoxels, nStimuli, initial_frequency, likelihoods_covar_independent_same)\n",
    "# This analysis function is what I modified, where the information for the covariance matrix is.\n",
    "B = np.asarray([elem for pair in zip(B_train, B_test) for elem in pair]) # Code suggested by ChatGPT on Nov 27"
   ]
  },
  {
   "cell_type": "code",
   "execution_count": 44,
   "id": "64b2f452",
   "metadata": {
    "scrolled": true
   },
   "outputs": [
    {
     "data": {
      "image/png": "[encoded data removed]",
      "text/plain": [
       "<Figure size 432x288 with 1 Axes>"
      ]
     },
     "metadata": {
      "needs_background": "light"
     },
     "output_type": "display_data"
    }
   ],
   "source": [
    "# Voxel response\n",
    "# initial_plots(B, C_estimated, r2, probability, means_vec, sigmas_vec, amplitudes_vec)\n",
    "# other_plots(means_vec, sigmas_vec, amplitudes_vec, initial_frequency, probability, tactile_stimuli, error_Hz_vec)\n",
    "\n",
    "# Calculating the error of the fitted gaussian's mean compared to the real frequency.\n",
    "plt.scatter(tactile_stimuli, error_Hz_vec, c=\"k\")#, label=label_Hz)\n",
    "plt.hlines(np.mean(error_Hz_vec), tactile_stimuli[0], tactile_stimuli[len(tactile_stimuli)-1],\n",
    "           linestyle='dashed', colors = 'r')\n",
    "plt.ylim([-10,240])\n",
    "plt.xlabel(r'Decoded Frequency [Hz]')\n",
    "plt.ylabel(r'Average error per condition')    \n",
    "plt.title(\"Tr2-Te1, Covar independent same\\n Mean Error \"+str(np.round(np.mean(error_Hz_vec), 2)))\n",
    "# plt.show()\n",
    "plt.savefig('Graphs/covariance/S'+subject_number+'_D_Tr2-Te1_covar_ind_same.jpg')\n",
    "\n",
    "vec_mean_errors_covar_same[7] = np.mean(error_Hz_vec)"
   ]
  },
  {
   "cell_type": "code",
   "execution_count": null,
   "id": "6b3cadaa",
   "metadata": {},
   "outputs": [],
   "source": []
  },
  {
   "cell_type": "markdown",
   "id": "e87c0530",
   "metadata": {},
   "source": [
    "# `likelihoods_covar_independent_different`"
   ]
  },
  {
   "cell_type": "code",
   "execution_count": 45,
   "id": "44bca350",
   "metadata": {},
   "outputs": [
    {
     "name": "stdout",
     "output_type": "stream",
     "text": [
      "Data ready.\n",
      "Model fit ready.\n",
      "(341,)\n",
      "Covar independent, different values\n",
      "  Residual variance 0.110331899410513\n",
      "max residual variance 2.950786738881778\n",
      "min residual variance 0.007802728858098755\n",
      "--- 11.571478128433228 seconds ---\n"
     ]
    }
   ],
   "source": [
    "# Modified cell for use in real data from cell above called: Creating simulated data\n",
    "# Initializing variables\n",
    "nStimuli = 9\n",
    "# nRepeats = 2 # These are the number of overall BOLD coefficients in the big matrix\n",
    "# nNeurons = 120\n",
    "# sigma = 10\n",
    "# nVoxels = 500 # train_matrix.shape[0] # number of voxels\n",
    "# noiseStandardDeviation = 0.35 # 0.4\n",
    "\n",
    "nChannels = 9 # Note how in this particular case, nStimuli = nChannels = 8\n",
    "exponent = 7\n",
    "nfrequencies = 241\n",
    "initial_frequency = 100\n",
    "\n",
    "# stimuli, frequency_range, B, neuralResponse = simulate_data(nStimuli, nRepeats, nNeurons, sigma,\n",
    "#                                                             nVoxels, noiseStandardDeviation)\n",
    "\n",
    "# Dude. The detail was that // was performing a floor division operator.\n",
    "# X1 = np.array([ [B[i][k] for i in range(B.shape[0]) if i % 2 == 0] for k in range(B.shape[1])]).T\n",
    "# X2 = np.array([ [B[i][k] for i in range(B.shape[0]) if i % 2 == 1] for k in range(B.shape[1])]).T\n",
    "\n",
    "B_train = train_matrix.T # B_train = train_matrix.T # trainVoxelResponse (B1) [txv]\n",
    "B_test = test_matrix.T # B_test = test_matrix.T # testVoxelResponse (B2) [txv]\n",
    "nVoxels = B_train.shape[1]\n",
    "\n",
    "# Simulating tactile stimuli\n",
    "tactile_stimuli = [i*30+initial_frequency for i in range(nStimuli)]\n",
    "stimuli = np.asarray([tactile_stimuli[i//2] for i in range(len(tactile_stimuli)*2)])\n",
    "frequency_range = np.arange(initial_frequency, initial_frequency+nfrequencies) # Neurons tuned from 100-340 Hz frequencies\n",
    "\n",
    "# Training\n",
    "channelBasis, C = create_channel_basis(nChannels, exponent, nStimuli)\n",
    "print(\"Data ready.\")\n",
    "W_estimated, B_predicted = model_fit(C, B_train)\n",
    "print(\"Model fit ready.\")\n",
    "\n",
    "C_estimated, r2, probability, means_vec, sigmas_vec, amplitudes_vec, error_Hz_vec = analysis(B_test, B_predicted, W_estimated, nVoxels, nStimuli, initial_frequency, likelihoods_covar_independent_different)\n",
    "# This last function is what I modified, where the information for the covariance matrix is.\n",
    "B = np.asarray([elem for pair in zip(B_train, B_test) for elem in pair]) # Code suggested by ChatGPT on Nov 27"
   ]
  },
  {
   "cell_type": "code",
   "execution_count": 46,
   "id": "50b21c0c",
   "metadata": {
    "scrolled": true
   },
   "outputs": [
    {
     "data": {
      "image/png": "[encoded data removed]",
      "text/plain": [
       "<Figure size 432x288 with 1 Axes>"
      ]
     },
     "metadata": {
      "needs_background": "light"
     },
     "output_type": "display_data"
    }
   ],
   "source": [
    "# Voxel response\n",
    "# initial_plots(B, C_estimated, r2, probability, means_vec, sigmas_vec, amplitudes_vec)\n",
    "# other_plots(means_vec, sigmas_vec, amplitudes_vec, initial_frequency, probability, tactile_stimuli, error_Hz_vec)\n",
    "\n",
    "# Calculating the error of the fitted gaussian's mean compared to the real frequency.\n",
    "plt.scatter(tactile_stimuli, error_Hz_vec, c=\"k\")#, label=label_Hz)\n",
    "plt.hlines(np.mean(error_Hz_vec), tactile_stimuli[0], tactile_stimuli[len(tactile_stimuli)-1],\n",
    "           linestyle='dashed', colors = 'r')\n",
    "plt.ylim([-10,240])\n",
    "plt.xlabel(r'Decoded Frequency [Hz]')\n",
    "plt.ylabel(r'Average error per condition')    \n",
    "plt.title(\"Tr1-Te2, Covar independent different\\n Mean Error \"+str(np.round(np.mean(error_Hz_vec), 2)))\n",
    "# plt.show()\n",
    "plt.savefig('Graphs/covariance/S'+subject_number+'_D_Tr1-Te2_covar_ind_diff.jpg')\n",
    "\n",
    "vec_mean_errors_covar_different[6] = np.mean(error_Hz_vec)"
   ]
  },
  {
   "cell_type": "code",
   "execution_count": 47,
   "id": "5a0c142a",
   "metadata": {},
   "outputs": [
    {
     "name": "stdout",
     "output_type": "stream",
     "text": [
      "nVoxels 341\n",
      "Data ready.\n",
      "Model fit ready.\n",
      "(341,)\n",
      "Covar independent, different values\n",
      "  Residual variance 0.110331899410513\n",
      "max residual variance 2.950786738881779\n",
      "min residual variance 0.007802728858098769\n",
      "--- 14.865226030349731 seconds ---\n"
     ]
    }
   ],
   "source": [
    "# Modified cell for use in real data from cell above called: Creating simulated data\n",
    "# Initializing variables\n",
    "nStimuli = 9\n",
    "# nRepeats = 2 # These are the number of overall BOLD coefficients in the big matrix\n",
    "# nNeurons = 120\n",
    "# sigma = 10\n",
    "# nVoxels = 500 # train_matrix.shape[0] # number of voxels\n",
    "# noiseStandardDeviation = 0.35 # 0.4\n",
    "\n",
    "nChannels = 9 # Note how in this particular case, nStimuli = nChannels = 8\n",
    "exponent = 7\n",
    "nfrequencies = 241\n",
    "initial_frequency = 100\n",
    "\n",
    "# stimuli, frequency_range, B, neuralResponse = simulate_data(nStimuli, nRepeats, nNeurons, sigma,\n",
    "#                                                             nVoxels, noiseStandardDeviation)\n",
    "\n",
    "# Dude. The detail was that // was performing a floor division operator.\n",
    "# X1 = np.array([ [B[i][k] for i in range(B.shape[0]) if i % 2 == 0] for k in range(B.shape[1])]).T\n",
    "# X2 = np.array([ [B[i][k] for i in range(B.shape[0]) if i % 2 == 1] for k in range(B.shape[1])]).T\n",
    "\n",
    "B_train = test_matrix.T # B_train = train_matrix.T # trainVoxelResponse (B1) [txv]\n",
    "B_test = train_matrix.T # B_test = test_matrix.T # testVoxelResponse (B2) [txv]\n",
    "nVoxels = B_train.shape[1]\n",
    "print(\"nVoxels\", nVoxels)\n",
    "\n",
    "# Simulating tactile stimuli\n",
    "tactile_stimuli = [i*30+initial_frequency for i in range(nStimuli)]\n",
    "stimuli = np.asarray([tactile_stimuli[i//2] for i in range(len(tactile_stimuli)*2)])\n",
    "frequency_range = np.arange(initial_frequency, initial_frequency+nfrequencies) # Neurons tuned from 100-340 Hz frequencies\n",
    "\n",
    "# Training\n",
    "channelBasis, C = create_channel_basis(nChannels, exponent, nStimuli)\n",
    "print(\"Data ready.\")\n",
    "W_estimated, B_predicted = model_fit(C, B_train)\n",
    "print(\"Model fit ready.\")\n",
    "\n",
    "C_estimated, r2, probability, means_vec, sigmas_vec, amplitudes_vec, error_Hz_vec = analysis(B_test, B_predicted, W_estimated, nVoxels, nStimuli, initial_frequency, likelihoods_covar_independent_different)\n",
    "# This analysis function is what I modified, where the information for the covariance matrix is.\n",
    "B = np.asarray([elem for pair in zip(B_train, B_test) for elem in pair]) # Code suggested by ChatGPT on Nov 27"
   ]
  },
  {
   "cell_type": "code",
   "execution_count": 48,
   "id": "46076978",
   "metadata": {
    "scrolled": false
   },
   "outputs": [
    {
     "data": {
      "image/png": "[encoded data removed]",
      "text/plain": [
       "<Figure size 432x288 with 1 Axes>"
      ]
     },
     "metadata": {
      "needs_background": "light"
     },
     "output_type": "display_data"
    }
   ],
   "source": [
    "# Voxel response\n",
    "# initial_plots(B, C_estimated, r2, probability, means_vec, sigmas_vec, amplitudes_vec)\n",
    "# other_plots(means_vec, sigmas_vec, amplitudes_vec, initial_frequency, probability, tactile_stimuli, error_Hz_vec)\n",
    "\n",
    "# Calculating the error of the fitted gaussian's mean compared to the real frequency.\n",
    "plt.scatter(tactile_stimuli, error_Hz_vec, c=\"k\")#, label=label_Hz)\n",
    "plt.hlines(np.mean(error_Hz_vec), tactile_stimuli[0], tactile_stimuli[len(tactile_stimuli)-1],\n",
    "           linestyle='dashed', colors = 'r')\n",
    "plt.ylim([-10,240])\n",
    "plt.xlabel(r'Decoded Frequency [Hz]')\n",
    "plt.ylabel(r'Average error per condition')    \n",
    "plt.title(\"Tr2-Te1, Covar independent different\\n Mean Error \"+str(np.round(np.mean(error_Hz_vec), 2)))\n",
    "# plt.show()\n",
    "plt.savefig('Graphs/covariance/S'+subject_number+'_D_Tr2-Te1_covar_ind_diff.jpg')\n",
    "\n",
    "vec_mean_errors_covar_different[7] = np.mean(error_Hz_vec)"
   ]
  },
  {
   "cell_type": "code",
   "execution_count": null,
   "id": "3298720b",
   "metadata": {},
   "outputs": [],
   "source": []
  },
  {
   "cell_type": "code",
   "execution_count": null,
   "id": "a2f46389",
   "metadata": {},
   "outputs": [],
   "source": []
  },
  {
   "cell_type": "code",
   "execution_count": null,
   "id": "3085e1d6",
   "metadata": {},
   "outputs": [],
   "source": []
  },
  {
   "cell_type": "code",
   "execution_count": null,
   "id": "489c970b",
   "metadata": {},
   "outputs": [],
   "source": []
  },
  {
   "cell_type": "markdown",
   "id": "00dcf80b",
   "metadata": {},
   "source": [
    "# Include here a graph of:\n",
    "`vec_mean_errors_covar_same` and `vec_mean_errors_covar_different`\n",
    "\n",
    "These vectors have 8 entries."
   ]
  },
  {
   "cell_type": "code",
   "execution_count": 49,
   "id": "70d140cc",
   "metadata": {},
   "outputs": [],
   "source": [
    "xx = [i for i in range(8)]"
   ]
  },
  {
   "cell_type": "code",
   "execution_count": 50,
   "id": "d48cac97",
   "metadata": {},
   "outputs": [
    {
     "data": {
      "text/plain": [
       "array([25.41040237, 18.67778745, 30.26456361, 22.4353366 , 28.70598574,\n",
       "       20.87470931, 16.62450797,  9.02253039])"
      ]
     },
     "execution_count": 50,
     "metadata": {},
     "output_type": "execute_result"
    }
   ],
   "source": [
    "vec_mean_errors_covar_different"
   ]
  },
  {
   "cell_type": "code",
   "execution_count": 53,
   "id": "a081e991",
   "metadata": {},
   "outputs": [
    {
     "data": {
      "image/png": "[encoded data removed]",
      "text/plain": [
       "<Figure size 432x288 with 1 Axes>"
      ]
     },
     "metadata": {
      "needs_background": "light"
     },
     "output_type": "display_data"
    }
   ],
   "source": [
    "xlabels = [\"Tr1-Te2, A\", \"Tr2-Te1, A\", \"Tr1-Te2, B\", \"Tr2-Te1, B\",\n",
    "           \"Tr1-Te2, C\", \"Tr2-Te1, C\", \"Tr1-Te2, D\", \"Tr2-Te1, D\"]\n",
    "plt.xticks(xx, xlabels, rotation=45)\n",
    "plt.scatter(xx, vec_mean_errors_covar_same, c='b', label=\"covariance same\")\n",
    "plt.scatter(xx, vec_mean_errors_covar_different, c='r', label=\"covariance different\")\n",
    "plt.title('Subject '+subject_number+'\\n Mean errors per conditions and single decoding (Tr-Te)')\n",
    "plt.xlabel('Different conditions')\n",
    "plt.ylabel('Mean error [Hz]')\n",
    "plt.legend()\n",
    "# plt.show()\n",
    "plt.savefig('Graphs/covariance/S'+subject_number+'_mean_errors.jpg')"
   ]
  },
  {
   "cell_type": "code",
   "execution_count": 52,
   "id": "ffe7b384",
   "metadata": {},
   "outputs": [
    {
     "data": {
      "image/png": "[encoded data removed]",
      "text/plain": [
       "<Figure size 432x288 with 1 Axes>"
      ]
     },
     "metadata": {
      "needs_background": "light"
     },
     "output_type": "display_data"
    }
   ],
   "source": [
    "# Quantify the previous plot.\n",
    "difference = vec_mean_errors_covar_same-vec_mean_errors_covar_different\n",
    "\n",
    "xlabels = [\"Tr1-Te2, A\", \"Tr2-Te1, A\", \"Tr1-Te2, B\", \"Tr2-Te1, B\",\n",
    "           \"Tr1-Te2, C\", \"Tr2-Te1, C\", \"Tr1-Te2, D\", \"Tr2-Te1, D\"]\n",
    "\n",
    "plt.xticks(xx, xlabels, rotation=45)\n",
    "plt.scatter(xx, difference, c='k')\n",
    "\n",
    "plt.title('Subject '+subject_number+'. Mean difference '+str(np.round(np.mean(difference),2))+ '\\n Difference of mean error between different and same covariance')\n",
    "plt.xlabel('Different conditions')\n",
    "plt.ylabel('Difference of mean error [Hz]')\n",
    "# plt.show()\n",
    "plt.savefig('Graphs/covariance/S'+subject_number+'_mean_difference.jpg')"
   ]
  },
  {
   "cell_type": "code",
   "execution_count": null,
   "id": "f8f72638",
   "metadata": {},
   "outputs": [],
   "source": []
  }
 ],
 "metadata": {
  "kernelspec": {
   "display_name": "Python 3 (ipykernel)",
   "language": "python",
   "name": "python3"
  },
  "language_info": {
   "codemirror_mode": {
    "name": "ipython",
    "version": 3
   },
   "file_extension": ".py",
   "mimetype": "text/x-python",
   "name": "python",
   "nbconvert_exporter": "python",
   "pygments_lexer": "ipython3",
   "version": "3.9.12"
  }
 },
 "nbformat": 4,
 "nbformat_minor": 5
}
